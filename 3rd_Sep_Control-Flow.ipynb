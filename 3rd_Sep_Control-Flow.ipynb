{
 "cells": [
  {
   "cell_type": "markdown",
   "id": "f7386854-e6aa-4ea1-afff-355949c76ea3",
   "metadata": {},
   "source": [
    "# Basic If-Else Statements:--------------\n"
   ]
  },
  {
   "cell_type": "code",
   "execution_count": 57,
   "id": "9455c267-4742-4bd8-ae37-4898ffd5734b",
   "metadata": {},
   "outputs": [
    {
     "name": "stdin",
     "output_type": "stream",
     "text": [
      "Enter a number: 9\n"
     ]
    },
    {
     "name": "stdout",
     "output_type": "stream",
     "text": [
      "Positive number\n"
     ]
    }
   ],
   "source": [
    "# 1.Write a Python program to check if a given number is positive or negative.\n",
    "\n",
    "number = float(input(\"Enter a number:\"))\n",
    "if number>0:\n",
    "    print(\"Positive number\")\n",
    "elif number<0:\n",
    "    print(\"Negative number\")\n",
    "else:\n",
    "    print(\"Number is zero\")"
   ]
  },
  {
   "cell_type": "code",
   "execution_count": 7,
   "id": "b30f7f7e-2343-4c5a-8eba-8911e6a8dff7",
   "metadata": {},
   "outputs": [
    {
     "name": "stdin",
     "output_type": "stream",
     "text": [
      "Enter your age: 3\n"
     ]
    },
    {
     "name": "stdout",
     "output_type": "stream",
     "text": [
      "Not eligible to vote\n"
     ]
    }
   ],
   "source": [
    "#2. Create a program that determines if a person is eligible to vote based on their age.\n",
    "\n",
    "age = int(input(\"Enter your age:\"))\n",
    "if age>=18:\n",
    "    print(\"Eligible to vote\")\n",
    "else:\n",
    "    print(\"Not eligible to vote\")"
   ]
  },
  {
   "cell_type": "code",
   "execution_count": 59,
   "id": "ab8988d4-c6cd-47e1-82a4-6380886c4747",
   "metadata": {},
   "outputs": [
    {
     "name": "stdin",
     "output_type": "stream",
     "text": [
      "Enter first number 33\n",
      "Enter Second number 4\n"
     ]
    },
    {
     "name": "stdout",
     "output_type": "stream",
     "text": [
      "33.0 is maximum number\n"
     ]
    }
   ],
   "source": [
    "#3. Develop a program to find the maximum of two numbers using if-else statements.\n",
    "a = float(input(\"Enter first number\"))\n",
    "b = float(input(\"Enter Second number\"))\n",
    "if a>b:\n",
    "    print(f\"{a} is maximum number\")\n",
    "elif b>a:\n",
    "    print(f\"{b} is maximum number\")\n",
    "else:\n",
    "    print(\"Both are equal numbers\")"
   ]
  },
  {
   "cell_type": "code",
   "execution_count": 15,
   "id": "d9337c1c-aa72-4ce5-84d1-122f7d5bfa67",
   "metadata": {},
   "outputs": [
    {
     "name": "stdin",
     "output_type": "stream",
     "text": [
      "Enter year: 2000\n"
     ]
    },
    {
     "name": "stdout",
     "output_type": "stream",
     "text": [
      "2000 is leap year\n"
     ]
    }
   ],
   "source": [
    "#4. Write a Python script to classify a given year as a leap year or not.\n",
    "\n",
    "year= int(input(\"Enter year:\"))\n",
    "if ((year%4==0 and year%100!=0) or year%400==0):\n",
    "    print(f\"{year} is leap year\")\n",
    "else:\n",
    "    print(f\"{year} is not a  leap year\")"
   ]
  },
  {
   "cell_type": "code",
   "execution_count": 19,
   "id": "c9dd8b92-5f87-408e-a755-23fb6cf00e74",
   "metadata": {},
   "outputs": [
    {
     "name": "stdin",
     "output_type": "stream",
     "text": [
      "Enter a character: A\n"
     ]
    },
    {
     "name": "stdout",
     "output_type": "stream",
     "text": [
      "A is vowel\n"
     ]
    }
   ],
   "source": [
    "#5. Create a program that checks whether a character is a vowel or a consonant.\n",
    "char = input(\"Enter a character:\")\n",
    "if char in \"aeiouAEIOU\":\n",
    "    print(f\"{char} is vowel\")\n",
    "else:\n",
    "    print(f\"{char} is a consonant\")"
   ]
  },
  {
   "cell_type": "code",
   "execution_count": 24,
   "id": "a489ed33-d5e8-4cb3-8054-27f5bf3ae900",
   "metadata": {},
   "outputs": [
    {
     "name": "stdin",
     "output_type": "stream",
     "text": [
      "Enter a number: 7\n"
     ]
    },
    {
     "name": "stdout",
     "output_type": "stream",
     "text": [
      "7 is odd\n"
     ]
    }
   ],
   "source": [
    "#6. Implement a program to determine whether a given number is even or odd.\n",
    "num = int(input(\"Enter a number:\"))\n",
    "print(f\"{num} is even\" if num%2==0 else f\"{num} is odd\")"
   ]
  },
  {
   "cell_type": "code",
   "execution_count": 60,
   "id": "1c3bf16b-2106-4169-8139-35c7217875de",
   "metadata": {},
   "outputs": [
    {
     "name": "stdin",
     "output_type": "stream",
     "text": [
      "Enter a number to calculate the absolute value 34\n"
     ]
    },
    {
     "name": "stdout",
     "output_type": "stream",
     "text": [
      "34.0\n"
     ]
    }
   ],
   "source": [
    "#7. Write a Python function to calculate the absolute value of a number without using the `abs()` function.\n",
    "\n",
    "def absolute(num):\n",
    "    return (-num if num<0 else num)\n",
    "\n",
    "num = float(input(\"Enter a number to calculate the absolute value\"))\n",
    "print(absolute(num))"
   ]
  },
  {
   "cell_type": "code",
   "execution_count": 61,
   "id": "8c510034-2e04-4c43-8d45-e4f047199496",
   "metadata": {},
   "outputs": [
    {
     "name": "stdin",
     "output_type": "stream",
     "text": [
      "Enter three numbers seperated by space: 12 13 14\n"
     ]
    },
    {
     "name": "stdout",
     "output_type": "stream",
     "text": [
      "14.0 is largest\n"
     ]
    }
   ],
   "source": [
    "#8. Develop a program that determines the largest of three given numbers using if-else statements.\n",
    "\n",
    "num= input(\"Enter three numbers seperated by space:\").split()\n",
    "a,b,c = float(num[0]),float(num[1]),float(num[2])\n",
    "if a>b:\n",
    "    if a>c:\n",
    "        print(f\"{a} is largest\")\n",
    "    else:\n",
    "        print(f\"{c} is largest\")\n",
    "        \n",
    "elif b>c:\n",
    "    print(f\"{b} is largest\")\n",
    "else:\n",
    "    print(f\"{c} is largest\")\n",
    "\n"
   ]
  },
  {
   "cell_type": "code",
   "execution_count": 45,
   "id": "d08e0418-53fa-4b66-b49a-17f3592f163a",
   "metadata": {},
   "outputs": [
    {
     "name": "stdout",
     "output_type": "stream",
     "text": [
      "malayalam is palindrome\n"
     ]
    }
   ],
   "source": [
    "#9. Create a program that checks if a given string is a palindrome.\n",
    "\n",
    "string = \"malayalam\"\n",
    "if (string.lower()==string[::-1].lower()):\n",
    "    print(f\"{string} is palindrome\")\n",
    "else:\n",
    "    print(f\"{string} is not palindrome\")"
   ]
  },
  {
   "cell_type": "code",
   "execution_count": 62,
   "id": "95843d19-c23a-4ddc-84f6-5b7386590bff",
   "metadata": {},
   "outputs": [
    {
     "name": "stdin",
     "output_type": "stream",
     "text": [
      "Enter student's score: 66\n"
     ]
    },
    {
     "name": "stdout",
     "output_type": "stream",
     "text": [
      "B2 grade\n"
     ]
    }
   ],
   "source": [
    "#10. Write a Python program to calculate the grade based on a student's score\n",
    "\n",
    "score = float(input(\"Enter student's score:\"))\n",
    "if (100>=score>=91):\n",
    "    print(\"A1 grade\")\n",
    "\n",
    "elif (90>=score>=81):\n",
    "    print(\"A2 grade\")\n",
    "\n",
    "elif (80>=score>=71):\n",
    "    print(\"B1 grade\")\n",
    "\n",
    "elif (70>=score>=61):\n",
    "    print(\"B2 grade\")\n",
    "\n",
    "elif (60>=score>=51):\n",
    "    print(\"C1 grade\")\n",
    "\n",
    "elif (50>=score>=41):\n",
    "    print(\"C2 grade\")\n",
    "\n",
    "elif (40>=score>=33):\n",
    "    print(\"D grade\")\n",
    "else:\n",
    "    print(\"Fail --F grade\")\n",
    "\n"
   ]
  },
  {
   "cell_type": "markdown",
   "id": "ddee4e96-11df-451c-a76e-dde11e3e90bd",
   "metadata": {},
   "source": [
    "# Nested If-Else Statements:------\n",
    "\n"
   ]
  },
  {
   "cell_type": "code",
   "execution_count": 63,
   "id": "63191a84-14b6-4502-81e4-09ed6e5fbec0",
   "metadata": {},
   "outputs": [
    {
     "name": "stdin",
     "output_type": "stream",
     "text": [
      "Enter three numbers seperated by space: 34 44 4\n"
     ]
    },
    {
     "name": "stdout",
     "output_type": "stream",
     "text": [
      "44.0 is largest\n"
     ]
    }
   ],
   "source": [
    "#11. Write a program to find the largest among three numbers using nested if-else statements.\n",
    "\n",
    "num= input(\"Enter three numbers seperated by space:\").split()\n",
    "a,b,c = float(num[0]),float(num[1]),float(num[2])\n",
    "if a>b:\n",
    "    if a>c:\n",
    "        print(f\"{a} is largest\")\n",
    "    else:\n",
    "        print(f\"{c} is largest\")\n",
    "        \n",
    "elif b>c:\n",
    "    print(f\"{b} is largest\")\n",
    "else:\n",
    "    print(f\"{c} is largest\")\n"
   ]
  },
  {
   "cell_type": "code",
   "execution_count": 35,
   "id": "70da95c1-4479-42bb-9e1b-c83feb851d9a",
   "metadata": {},
   "outputs": [
    {
     "name": "stdin",
     "output_type": "stream",
     "text": [
      "Enter three sides seperated by space: 34 23 45\n"
     ]
    },
    {
     "name": "stdout",
     "output_type": "stream",
     "text": [
      "Triangle is Scalene\n"
     ]
    }
   ],
   "source": [
    "#12. Implement a program to determine if a triangle is equilateral, isosceles, or scalene.\n",
    "\n",
    "side= input(\"Enter three sides seperated by space:\").split()\n",
    "a,b,c = float(side[0]),float(side[1]),float(side[2])\n",
    "if (a+b>c and a+c>b and b+c>a):\n",
    "    if a==b or a==c or b==c:\n",
    "        if a==b==c:\n",
    "            print(\"Triangle is equilateral\")\n",
    "        else:\n",
    "            print(\"Triangle is isosceles\")\n",
    "    else:   \n",
    "        print(\"Triangle is Scalene\")\n",
    "    \n",
    "else:\n",
    "    print(\"Triangle is invalid\")\n",
    "    "
   ]
  },
  {
   "cell_type": "code",
   "execution_count": 63,
   "id": "6f90dcaa-ebfc-4979-b696-495c70acffb2",
   "metadata": {},
   "outputs": [
    {
     "name": "stdin",
     "output_type": "stream",
     "text": [
      "Enter year: 2000\n"
     ]
    },
    {
     "name": "stdout",
     "output_type": "stream",
     "text": [
      "2000 is leap year and 2000 is Centuary year too\n"
     ]
    }
   ],
   "source": [
    "#13. Develop a program that checks if a year is a leap year and also if it is a century year.\n",
    "\n",
    "year= int(input(\"Enter year:\"))\n",
    "if ((year%4==0 and year%100!=0) or year%400==0):\n",
    "    print(f\"{year} is leap year\",end=' ')\n",
    "    if year%400==0:\n",
    "        print(f\"and {year} is Centuary year too\")\n",
    "else:\n",
    "    print(f\"{year} is not a  leap year\")"
   ]
  },
  {
   "cell_type": "code",
   "execution_count": 64,
   "id": "542ac4ff-1455-494d-94df-7b8f91f78f2f",
   "metadata": {},
   "outputs": [
    {
     "name": "stdin",
     "output_type": "stream",
     "text": [
      "Enter a number: 33\n"
     ]
    },
    {
     "name": "stdout",
     "output_type": "stream",
     "text": [
      "Number is positive\n"
     ]
    }
   ],
   "source": [
    "#14. Write a Python script to determine if a number is positive, negative, or zero.\n",
    "\n",
    "num = float(input(\"Enter a number:\"))\n",
    "if num>0:\n",
    "    print(\"Number is positive\")\n",
    "elif num<0:\n",
    "    print(\"Number is negative\")\n",
    "else:\n",
    "    print(\"It is Zero\")"
   ]
  },
  {
   "cell_type": "code",
   "execution_count": 70,
   "id": "eb8dba74-2f4f-40b0-bfdf-392813fc395a",
   "metadata": {},
   "outputs": [
    {
     "name": "stdin",
     "output_type": "stream",
     "text": [
      "Enter age: 14\n"
     ]
    },
    {
     "name": "stdout",
     "output_type": "stream",
     "text": [
      "Person is teenager\n"
     ]
    }
   ],
   "source": [
    "#15. Create a program to check if a person is a teenager (between 13 and 19 years old).\n",
    "age = int(input(\"Enter age:\"))\n",
    "if 13<=age<=19:\n",
    "    print(\"Person is teenager\")\n",
    "else:\n",
    "    print(\"Person is not teenager\")"
   ]
  },
  {
   "cell_type": "code",
   "execution_count": 65,
   "id": "f16e6d5b-a9ba-4e47-b08d-aac98b1f175a",
   "metadata": {},
   "outputs": [
    {
     "name": "stdin",
     "output_type": "stream",
     "text": [
      "Enter angle: 34\n"
     ]
    },
    {
     "name": "stdout",
     "output_type": "stream",
     "text": [
      "34.0 is acute angle\n"
     ]
    }
   ],
   "source": [
    "#16. Develop a program that determines the type of angle based on its measure (acute, obtuse, or right).\n",
    "\n",
    "angle = float(input(\"Enter angle:\"))\n",
    "if angle<90:\n",
    "    print(\"{0} is acute angle\".format(angle))\n",
    "elif angle>90:\n",
    "     print(\"{0} is obtuse angle\".format(angle))\n",
    "else:\n",
    "     print(\"{0} is right angle\".format(angle))"
   ]
  },
  {
   "cell_type": "code",
   "execution_count": 104,
   "id": "5cf593ae-af89-48f9-983c-39ad643b7354",
   "metadata": {},
   "outputs": [
    {
     "name": "stdin",
     "output_type": "stream",
     "text": [
      "Enter First coeficient of quadratic equation 1\n",
      "Enter Second coeficient of quadratic equation -6\n",
      "Enter Third coeficient of quadratic equation -88\n"
     ]
    },
    {
     "name": "stdout",
     "output_type": "stream",
     "text": [
      "\n",
      "Roots are: 12.848857801796104 , -6.848857801796104\n"
     ]
    }
   ],
   "source": [
    "#17. Write a Python program to calculate the roots of a quadratic equation.\n",
    "\n",
    "a = float(input(\"Enter First coeficient of quadratic equation\"))\n",
    "b = float(input(\"Enter Second coeficient of quadratic equation\"))\n",
    "c = float(input(\"Enter Third coeficient of quadratic equation\"))\n",
    "        \n",
    "\n",
    "if (b**2-4*a*c)**0.5 !=0:     \n",
    "    root1 = (-b+(b**2-4*a*c)**0.5)/(2*a)\n",
    "    root2 = (-b-(b**2-4*a*c)**0.5)/(2*a)\n",
    "    print(f\"\\nRoots are: {root1} , {root2}\")\n",
    "else:\n",
    "    print(\"\\nRoot is: \",-b/(2*a))\n",
    "    \n",
    "\n"
   ]
  },
  {
   "cell_type": "code",
   "execution_count": 3,
   "id": "78faca96-7e65-4f8b-acd8-ba5012dfc427",
   "metadata": {},
   "outputs": [
    {
     "name": "stdin",
     "output_type": "stream",
     "text": [
      "Enter day number: 5\n"
     ]
    },
    {
     "name": "stdout",
     "output_type": "stream",
     "text": [
      "Friday\n"
     ]
    }
   ],
   "source": [
    "#18. Implement a program to determine the day of the week based on a user-provided number (1 for Monday, 2 for Tuesday, etc.).\n",
    "\n",
    "daynumber = int(input(\"Enter day number:\"))\n",
    "days = [\"Monday\",\"Tuesday\",\"Wednesday\",\"Thursday\",\"Friday\",\"Saturday\",\"Sunday\"]\n",
    "if 1<=daynumber<=7:\n",
    "    print(days[daynumber-1])\n",
    "else:\n",
    "    print(\"Not valid day number\")"
   ]
  },
  {
   "cell_type": "code",
   "execution_count": 6,
   "id": "88059c76-1977-434a-9e77-e2c2d069e0bb",
   "metadata": {},
   "outputs": [
    {
     "name": "stdin",
     "output_type": "stream",
     "text": [
      "Enter year to check leap year: 1600\n"
     ]
    },
    {
     "name": "stdout",
     "output_type": "stream",
     "text": [
      "1600 is leap year\n",
      "1600 is evenly divisible by 400\n"
     ]
    }
   ],
   "source": [
    "#19. Create a program that determines if a year is a leap year and also if it is evenly divisible by 400.\n",
    "\n",
    "year = int(input(\"Enter year to check leap year:\"))\n",
    "if year%4==0 and year%100!=0 or year%400==0:\n",
    "    print(f\"{year} is leap year\")\n",
    "    if year%400==0:\n",
    "        print(f\"{year} is evenly divisible by 400\")"
   ]
  },
  {
   "cell_type": "code",
   "execution_count": 35,
   "id": "47e227ba-3efd-49c0-9d3e-30fb2a93d310",
   "metadata": {},
   "outputs": [
    {
     "name": "stdin",
     "output_type": "stream",
     "text": [
      "Enter number to check prime: 6\n"
     ]
    },
    {
     "name": "stdout",
     "output_type": "stream",
     "text": [
      "6 is not a prime number\n"
     ]
    }
   ],
   "source": [
    "#20. Develop a program that checks if a given number is prime or not using nested if-else statements.\n",
    "\n",
    "def prime(num):\n",
    "    if num<=1:\n",
    "        return False\n",
    "    else:\n",
    "        for i in range(2,int(num**0.5)+1):\n",
    "            if num%i==0:\n",
    "                return False\n",
    "    return True\n",
    "\n",
    "num = int(input(\"Enter number to check prime:\"))\n",
    "if prime(num):\n",
    "    print(f\"{num} is a prime number\")\n",
    "else:\n",
    "    print(f\"{num} is not a prime number\")\n"
   ]
  },
  {
   "cell_type": "markdown",
   "id": "b1547201-cdc8-4f8c-bb24-c51295c7f3c7",
   "metadata": {},
   "source": [
    "# elif statements------------"
   ]
  },
  {
   "cell_type": "code",
   "execution_count": 66,
   "id": "ea139726-3b1e-4556-9eaf-2ac654bbcb23",
   "metadata": {},
   "outputs": [
    {
     "name": "stdin",
     "output_type": "stream",
     "text": [
      "Enter student's score: 2\n"
     ]
    },
    {
     "name": "stdout",
     "output_type": "stream",
     "text": [
      "Fail --F grade\n"
     ]
    }
   ],
   "source": [
    "#21. Write a Python program to assign grades based on different ranges of scores using elif statements.\n",
    "\n",
    "score = float(input(\"Enter student's score:\"))\n",
    "if (100>=score>=91):\n",
    "    print(\"A1 grade\")\n",
    "\n",
    "elif (90>=score>=81):\n",
    "    print(\"A2 grade\")\n",
    "\n",
    "elif (80>=score>=71):\n",
    "    print(\"B1 grade\")\n",
    "\n",
    "elif (70>=score>=61):\n",
    "    print(\"B2 grade\")\n",
    "\n",
    "elif (60>=score>=51):\n",
    "    print(\"C1 grade\")\n",
    "\n",
    "elif (50>=score>=41):\n",
    "    print(\"C2 grade\")\n",
    "\n",
    "elif (40>=score>=33):\n",
    "    print(\"D grade\")\n",
    "else:\n",
    "    print(\"Fail --F grade\")\n"
   ]
  },
  {
   "cell_type": "code",
   "execution_count": 14,
   "id": "92d16912-2a14-45ad-9c1f-c119a51e480d",
   "metadata": {},
   "outputs": [
    {
     "name": "stdin",
     "output_type": "stream",
     "text": [
      "Enter three angles seperated by space: 20 60 100\n"
     ]
    },
    {
     "name": "stdout",
     "output_type": "stream",
     "text": [
      "Triangle is scalene\n"
     ]
    }
   ],
   "source": [
    "#22. Implement a program to determine the type of a triangle based on its angles.\n",
    "angle= input(\"Enter three angles seperated by space:\").split()\n",
    "a,b,c = float(angle[0]),float(angle[1]),float(angle[2])\n",
    "validation = (True if a+b+c==180 else False)\n",
    "if validation:\n",
    "    if a==b or a==c or b==c:\n",
    "        if a==b==c:\n",
    "            print(\"Triangle is equilateral\")\n",
    "        else:\n",
    "            print(\"Triangle is isosceles\")\n",
    "    else:\n",
    "        print(\"Triangle is scalene\")\n",
    "else:\n",
    "    print(\"Triangle is invalid\")"
   ]
  },
  {
   "cell_type": "code",
   "execution_count": 68,
   "id": "8f4fbf4f-73f9-40cc-a304-7f50840ad374",
   "metadata": {},
   "outputs": [
    {
     "name": "stdin",
     "output_type": "stream",
     "text": [
      "Enter BMI of the person: 18.5\n"
     ]
    },
    {
     "name": "stdout",
     "output_type": "stream",
     "text": [
      "Healthy weight Person\n"
     ]
    }
   ],
   "source": [
    "#23. Develop a program to categorize a given person's BMI into underweight, normal, overweight, or obese using elif statements.\n",
    "\n",
    "BMI = float(input(\"Enter BMI of the person:\"))\n",
    "if BMI<18.5:\n",
    "    print(\"Underweight Person\")\n",
    "elif 18.5<=BMI<=24.9:\n",
    "    print(\"Healthy weight Person\")\n",
    "elif 25<=BMI<=29.9:\n",
    "    print(\"Person is overweight\")\n",
    "elif 30<=BMI:\n",
    "    print(\"Person is obese\")"
   ]
  },
  {
   "cell_type": "code",
   "execution_count": 69,
   "id": "7594eb7f-d301-47b9-ad98-16687a515ad7",
   "metadata": {},
   "outputs": [
    {
     "name": "stdin",
     "output_type": "stream",
     "text": [
      "Enter a number: 2\n"
     ]
    },
    {
     "name": "stdout",
     "output_type": "stream",
     "text": [
      "Number is positive\n"
     ]
    }
   ],
   "source": [
    "#24. Create a program that determines whether a given number is positive, negative, or zero using elif statements.\n",
    "num = float(input(\"Enter a number:\"))\n",
    "if num>0:\n",
    "    print(\"Number is positive\")\n",
    "elif num<0:\n",
    "    print(\"Number is negative\")\n",
    "else:\n",
    "    print(\"It is Zero\")"
   ]
  },
  {
   "cell_type": "code",
   "execution_count": 12,
   "id": "4e948513-9d48-47f2-b1e2-8ef99213bf1d",
   "metadata": {},
   "outputs": [
    {
     "name": "stdin",
     "output_type": "stream",
     "text": [
      "Enter a character: o\n"
     ]
    },
    {
     "name": "stdout",
     "output_type": "stream",
     "text": [
      "Character is in lowercase\n"
     ]
    }
   ],
   "source": [
    "#25. Write a Python script to determine the type of a character (uppercase, lowercase, or special) using elif statements.\n",
    "\n",
    "char = input(\"Enter a character:\")\n",
    "if char.lower()==char and char.isalpha()==True:\n",
    "    print(\"Character is in lowercase\")\n",
    "elif char.upper()==char and char.isalpha()==True:\n",
    "    print(\"Character is in uppercase\")\n",
    "elif not char.isalnum():\n",
    "    print(\"Character is special character\")\n",
    "else:\n",
    "    print(\"Character is number\")"
   ]
  },
  {
   "cell_type": "code",
   "execution_count": 21,
   "id": "c5b68029-5896-47cf-bcf3-80bb690f316c",
   "metadata": {},
   "outputs": [
    {
     "name": "stdin",
     "output_type": "stream",
     "text": [
      "Enter the purchase amount: Rs 500\n"
     ]
    },
    {
     "name": "stdout",
     "output_type": "stream",
     "text": [
      "Original Purchase Amount: Rs500.00\n",
      "Discount Rate: 15.0%\n",
      "Discount Amount: Rs75.00\n",
      "Discounted Price: Rs425.00\n"
     ]
    }
   ],
   "source": [
    "#26. Implement a program to calculate the discounted price based on different purchase amounts using elif statements.\n",
    "purchase_amount = float(input(\"Enter the purchase amount: Rs\"))\n",
    "\n",
    "if purchase_amount < 100:\n",
    "    discount_rate = 0.05\n",
    "elif purchase_amount < 500:\n",
    "    discount_rate = 0.1\n",
    "elif purchase_amount < 1000:\n",
    "    discount_rate = 0.15\n",
    "else:\n",
    "    discount_rate = 0.2\n",
    "\n",
    "discount = purchase_amount * discount_rate\n",
    "discounted_price = purchase_amount - discount\n",
    "\n",
    "print(f\"Original Purchase Amount: Rs{purchase_amount:.2f}\")\n",
    "print(f\"Discount Rate: {discount_rate * 100}%\")\n",
    "print(f\"Discount Amount: Rs{discount:.2f}\")\n",
    "print(f\"Discounted Price: Rs{discounted_price:.2f}\")\n"
   ]
  },
  {
   "cell_type": "code",
   "execution_count": 25,
   "id": "5934fc6c-ddab-415c-938d-a0b21e09ce0e",
   "metadata": {},
   "outputs": [
    {
     "name": "stdin",
     "output_type": "stream",
     "text": [
      "Enter your monthly consumption in units:  60\n"
     ]
    },
    {
     "name": "stdout",
     "output_type": "stream",
     "text": [
      "Total bill amount:  160.0\n"
     ]
    }
   ],
   "source": [
    "#27. Develop a program to calculate the electricity bill based on different consumption slabs using elif statements.\n",
    "\n",
    "# Define electricity tariff rates for different slabs in India\n",
    "unit_slabs = [50, 100, 200, 300, 500, 1000]\n",
    "tariff_rates = [2.5, 3.5, 5.5, 7.5, 8.0, 9.0]  # Rate per unit in INR\n",
    "\n",
    "consumed_units = int(input(\"Enter your monthly consumption in units: \"))\n",
    "bill_amount = 0\n",
    "\n",
    "for i in range(len(unit_slabs)):\n",
    "    if consumed_units <=0:\n",
    "        break\n",
    "    \n",
    "    elif consumed_units<=unit_slabs[i]:\n",
    "        bill_amount+=consumed_units*tariff_rates[i]\n",
    "        break\n",
    "    else:\n",
    "        bill_amount+=unit_slabs[i]*tariff_rates[i]\n",
    "        consumed_units-=unit_slabs[i]\n",
    "\n",
    "print(\"Total bill amount: \",bill_amount)          "
   ]
  },
  {
   "cell_type": "code",
   "execution_count": 87,
   "id": "92945732-3760-4058-94f9-d7d2ff8fa09a",
   "metadata": {},
   "outputs": [
    {
     "name": "stdin",
     "output_type": "stream",
     "text": [
      "Enter the length of side a:  10\n",
      "Enter the length of side b:  10\n",
      "Enter the length of side c:  10\n",
      "Enter the length of side d:  10\n",
      "Enter the measure of angle A (in degrees):  90\n",
      "Enter the measure of angle B (in degrees):  90\n",
      "Enter the measure of angle C (in degrees):  90\n",
      "Enter the measure of angle D (in degrees):  90\n"
     ]
    },
    {
     "name": "stdout",
     "output_type": "stream",
     "text": [
      "The quadrilateral is a square.\n"
     ]
    }
   ],
   "source": [
    "#28. Create a program to determine the type of quadrilateral based on its angles and sides using elif statements.\n",
    "\n",
    "a = float(input(\"Enter the length of side a: \"))\n",
    "b = float(input(\"Enter the length of side b: \"))\n",
    "c = float(input(\"Enter the length of side c: \"))\n",
    "d = float(input(\"Enter the length of side d: \"))\n",
    "\n",
    "angle_A = float(input(\"Enter the measure of angle A (in degrees): \"))\n",
    "angle_B = float(input(\"Enter the measure of angle B (in degrees): \"))\n",
    "angle_C = float(input(\"Enter the measure of angle C (in degrees): \"))\n",
    "angle_D = float(input(\"Enter the measure of angle D (in degrees): \"))\n",
    "\n",
    "if angle_A == angle_B == angle_C == angle_D == 90:\n",
    "    if a == b == c == d:\n",
    "        print(\"The quadrilateral is a square.\")\n",
    "    else:\n",
    "        print(\"The quadrilateral is a rectangle.\")\n",
    "elif angle_A == angle_B and angle_C == angle_D and a == b and c == d:\n",
    "    print(\"The quadrilateral is a kite.\")\n",
    "elif angle_A == angle_B and angle_C == angle_D:\n",
    "    print(\"The quadrilateral is a parallelogram.\")\n",
    "else:\n",
    "    print(\"The quadrilateral is a general quadrilateral.\")\n"
   ]
  },
  {
   "cell_type": "code",
   "execution_count": 91,
   "id": "6e43ad0e-b82e-4cf1-8ea8-2a0930345564",
   "metadata": {},
   "outputs": [
    {
     "name": "stdin",
     "output_type": "stream",
     "text": [
      "Enter month number eg:(Jan = 1 or Dec=12): 5\n"
     ]
    },
    {
     "name": "stdout",
     "output_type": "stream",
     "text": [
      "Spring season\n"
     ]
    }
   ],
   "source": [
    "#29. Write a Python script to determine the season based on a user-provided month using elif statements.\n",
    "\n",
    "month = int(input(\"Enter month number eg:(Jan = 1 or Dec=12):\"))\n",
    "if month<=0:\n",
    "    print(\"Invalid month\")\n",
    "\n",
    "elif month in [12,1,2]:\n",
    "    print(\"Winter season\")\n",
    "\n",
    "elif 3<=month<=5:\n",
    "    print(\"Spring season\")\n",
    "    \n",
    "elif 6<=month<=8:\n",
    "    print(\"Summer season\")\n",
    "    \n",
    "elif 9<=month<=11:\n",
    "    print(\"Autumn season\")"
   ]
  },
  {
   "cell_type": "code",
   "execution_count": 94,
   "id": "98d04b31-72af-4175-9012-d6430eaa4998",
   "metadata": {},
   "outputs": [
    {
     "name": "stdin",
     "output_type": "stream",
     "text": [
      "Enter a year:  2000\n",
      "Enter a month (1-12):  9\n"
     ]
    },
    {
     "name": "stdout",
     "output_type": "stream",
     "text": [
      "Leap year\n",
      "30 days\n"
     ]
    }
   ],
   "source": [
    "#30. Implement a program to determine the type of a year (leap or common) and month (30 or 31 days) using elif statements.\n",
    "\n",
    "def is_leap_year(year):\n",
    "    if (year % 4 == 0 and year % 100 != 0) or (year % 400 == 0):\n",
    "        return True\n",
    "    else:\n",
    "        return False\n",
    "\n",
    "\n",
    "year = int(input(\"Enter a year: \"))\n",
    "month = int(input(\"Enter a month (1-12): \"))\n",
    "\n",
    "if is_leap_year(year):\n",
    "    print(\"Leap year\")\n",
    "else:\n",
    "    print(\"Common year\")\n",
    "\n",
    "if month in [4, 6, 9, 11]:\n",
    "    print(\"30 days\")\n",
    "elif month == 2:\n",
    "    if is_leap_year(year):\n",
    "        print(\"29 days (Leap year)\")\n",
    "    else:\n",
    "        print(\"28 days (Common year)\")\n",
    "else:\n",
    "    print(\"31 days\")"
   ]
  },
  {
   "cell_type": "markdown",
   "id": "6c3eeef2-a1a4-4463-9336-bfe8d5d84656",
   "metadata": {},
   "source": [
    "# Basic Level---------\n",
    "\n"
   ]
  },
  {
   "cell_type": "code",
   "execution_count": 70,
   "id": "38df4d06-34a3-42a8-b417-728649ce91cb",
   "metadata": {},
   "outputs": [
    {
     "name": "stdin",
     "output_type": "stream",
     "text": [
      "Enter a number: 34\n"
     ]
    },
    {
     "name": "stdout",
     "output_type": "stream",
     "text": [
      "Positive number\n"
     ]
    }
   ],
   "source": [
    "#1. Write a Python program that checks if a given number is positive, negative, or zero.\n",
    "\n",
    "number = float(input(\"Enter a number:\"))\n",
    "if number>0:\n",
    "    print(\"Positive number\")\n",
    "elif number<0:\n",
    "    print(\"Negative number\")\n",
    "else:\n",
    "    print(\"Number is zero\")"
   ]
  },
  {
   "cell_type": "code",
   "execution_count": 2,
   "id": "3da4852e-29e8-43a1-a2af-11badc6edabc",
   "metadata": {},
   "outputs": [
    {
     "name": "stdin",
     "output_type": "stream",
     "text": [
      "Enter your age: 55\n"
     ]
    },
    {
     "name": "stdout",
     "output_type": "stream",
     "text": [
      "Eligible to vote\n"
     ]
    }
   ],
   "source": [
    "#2. Create a program to determine if a person is eligible to vote based on their age.\n",
    "age = int(input(\"Enter your age:\"))\n",
    "if age>=18:\n",
    "    print(\"Eligible to vote\")\n",
    "else:\n",
    "    print(\"Not eligible to vote\")"
   ]
  },
  {
   "cell_type": "code",
   "execution_count": 72,
   "id": "b712de69-7f1d-4f7c-9f5c-789e97d67be3",
   "metadata": {},
   "outputs": [
    {
     "name": "stdin",
     "output_type": "stream",
     "text": [
      "Enter first number: 34\n",
      "Enter Second number: 5\n"
     ]
    },
    {
     "name": "stdout",
     "output_type": "stream",
     "text": [
      "34.0 is maximum number\n"
     ]
    }
   ],
   "source": [
    "#3. Write a program to find the maximum of two given numbers using conditional statements.\n",
    "\n",
    "num1,num2 = float(input(\"Enter first number:\")),float(input(\"Enter Second number:\"))\n",
    "if num1>num2:\n",
    "    print(f\"{num1} is maximum number\")\n",
    "elif num2>num1:\n",
    "    print(f\"{num2} is maximum number\")\n",
    "else:\n",
    "    print(f\"{num1} is equal to {num2}\")\n"
   ]
  },
  {
   "cell_type": "code",
   "execution_count": 73,
   "id": "db71fcaf-13f8-4d67-b418-383b60b474c5",
   "metadata": {},
   "outputs": [
    {
     "name": "stdin",
     "output_type": "stream",
     "text": [
      "Enter student's score (%): 45\n"
     ]
    },
    {
     "name": "stdout",
     "output_type": "stream",
     "text": [
      "C2 grade\n"
     ]
    }
   ],
   "source": [
    "#4. Develop a program that calculates the grade of a student based on their exam score.\n",
    "score = float(input(\"Enter student's score (%):\"))\n",
    "if (100>=score>=91):\n",
    "    print(\"A1 grade\")\n",
    "\n",
    "elif (90>=score>=81):\n",
    "    print(\"A2 grade\")\n",
    "\n",
    "elif (80>=score>=71):\n",
    "    print(\"B1 grade\")\n",
    "\n",
    "elif (70>=score>=61):\n",
    "    print(\"B2 grade\")\n",
    "\n",
    "elif (60>=score>=51):\n",
    "    print(\"C1 grade\")\n",
    "\n",
    "elif (50>=score>=41):\n",
    "    print(\"C2 grade\")\n",
    "\n",
    "elif (40>=score>=33):\n",
    "    print(\"D grade\")\n",
    "else:\n",
    "    print(\"Fail --F grade\")\n"
   ]
  },
  {
   "cell_type": "code",
   "execution_count": 10,
   "id": "e16729f0-b56b-4ff6-9de2-fe244a0410b4",
   "metadata": {},
   "outputs": [
    {
     "name": "stdin",
     "output_type": "stream",
     "text": [
      "Enter year: 2020\n"
     ]
    },
    {
     "name": "stdout",
     "output_type": "stream",
     "text": [
      "2020 is leap year\n"
     ]
    }
   ],
   "source": [
    "#5. Create a program that checks if a year is a leap year or not.\n",
    "year= int(input(\"Enter year:\"))\n",
    "if ((year%4==0 and year%100!=0) or year%400==0):\n",
    "    print(f\"{year} is leap year\")\n",
    "else:\n",
    "    print(f\"{year} is not a  leap year\")"
   ]
  },
  {
   "cell_type": "code",
   "execution_count": 33,
   "id": "1c724b1a-ac63-41b1-94d4-ac6fb394f255",
   "metadata": {},
   "outputs": [
    {
     "name": "stdin",
     "output_type": "stream",
     "text": [
      "Enter three sides seperated by space: 20 20 20\n"
     ]
    },
    {
     "name": "stdout",
     "output_type": "stream",
     "text": [
      "Triangle is equilateral\n"
     ]
    }
   ],
   "source": [
    "#6. Write a program to classify a triangle based on its sides' lengths.\n",
    "side= input(\"Enter three sides seperated by space:\").split()\n",
    "a,b,c = float(side[0]),float(side[1]),float(side[2])\n",
    "if (a+b>c and a+c>b and b+c>a):\n",
    "    if a==b or a==c or b==c:\n",
    "        if a==b==c:\n",
    "            print(\"Triangle is equilateral\")\n",
    "        else:\n",
    "            print(\"Triangle is isosceles\")\n",
    "    else:   \n",
    "        print(\"Triangle is Scalene\")\n",
    "    \n",
    "else:\n",
    "    print(\"Triangle is invalid\")\n",
    "    "
   ]
  },
  {
   "cell_type": "code",
   "execution_count": 74,
   "id": "4e5a974f-1580-418d-b363-684bbdb01e4d",
   "metadata": {},
   "outputs": [
    {
     "name": "stdin",
     "output_type": "stream",
     "text": [
      "Enter three numbers seperated by space: 1 2 3\n"
     ]
    },
    {
     "name": "stdout",
     "output_type": "stream",
     "text": [
      "3.0 is largest number\n"
     ]
    }
   ],
   "source": [
    "#7. Build a program that determines the largest of three given numbers.\n",
    "\n",
    "nums = input(\"Enter three numbers seperated by space:\").split()\n",
    "num1,num2,num3 = float(nums[0]),float(nums[1]),float(nums[2])\n",
    "if num1>num2:\n",
    "    if num1>num3:\n",
    "        print(f\"{num1} is largest number\")\n",
    "    else:\n",
    "        print(f\"{num3} is largest number\")\n",
    "\n",
    "elif num2>num3:\n",
    "    print(f\"{num2} is largest number\")\n",
    "else:\n",
    "    print(f\"{num3} is largest number\")\n"
   ]
  },
  {
   "cell_type": "code",
   "execution_count": 44,
   "id": "27cdedb9-135e-405e-8a70-47c642312411",
   "metadata": {},
   "outputs": [
    {
     "name": "stdin",
     "output_type": "stream",
     "text": [
      "Enter a character: r\n"
     ]
    },
    {
     "name": "stdout",
     "output_type": "stream",
     "text": [
      "r is a consonant\n"
     ]
    }
   ],
   "source": [
    "#8. Develop a program that checks whether a character is a vowel or a consonant.\n",
    "\n",
    "char = input(\"Enter a character:\")\n",
    "if char in \"aeiouAEIOU\":\n",
    "    print(f\"{char} is vowel\")\n",
    "else:\n",
    "    print(f\"{char} is a consonant\")"
   ]
  },
  {
   "cell_type": "code",
   "execution_count": 55,
   "id": "a1c88144-58e6-4d1d-86ef-2c60ccf7345c",
   "metadata": {},
   "outputs": [
    {
     "name": "stdout",
     "output_type": "stream",
     "text": [
      "Total cost of the shopping cart: Rs83.00\n"
     ]
    }
   ],
   "source": [
    "#9. Create a program to calculate the total cost of a shopping cart based on discounts.\n",
    "\n",
    "item_prices = {\n",
    "    \"item1\": 10.00,\n",
    "    \"item2\": 20.00,\n",
    "    \"item3\": 15.00,\n",
    "}\n",
    "\n",
    "# Create a shopping cart with items and quantities\n",
    "shopping_cart = {\n",
    "    \"item1\": 3,\n",
    "    \"item2\": 2,\n",
    "    \"item3\": 1,\n",
    "}\n",
    "\n",
    "total_cost = sum(item_prices[item] * quantity for item, quantity in shopping_cart.items())\n",
    "\n",
    "# Apply a discount for item1 (10% off if you buy 2 or more)\n",
    "if \"item1\" in shopping_cart and shopping_cart[\"item1\"] >= 2:\n",
    "    total_cost -= (shopping_cart[\"item1\"] // 2) * 0.1* 2*item_prices[\"item1\"]\n",
    "\n",
    "print(f\"Total cost of the shopping cart: Rs{total_cost:.2f}\")\n"
   ]
  },
  {
   "cell_type": "code",
   "execution_count": 76,
   "id": "58a9a404-ac79-4757-b32f-55888ff8b2b4",
   "metadata": {},
   "outputs": [
    {
     "name": "stdin",
     "output_type": "stream",
     "text": [
      "Enter number to check: 13\n"
     ]
    },
    {
     "name": "stdout",
     "output_type": "stream",
     "text": [
      "13.0 is odd\n"
     ]
    }
   ],
   "source": [
    "#10. Write a program that checks if a given number is even or odd.\n",
    "\n",
    "num = float(input(\"Enter number to check:\"))\n",
    "print(f\"{num} is even\" if num%2==0 else f\"{num} is odd\")"
   ]
  },
  {
   "cell_type": "markdown",
   "id": "d93a232d-a69a-4529-a3cc-52d9e10a56f4",
   "metadata": {},
   "source": [
    "# Intermediate Level---------\n",
    "\n"
   ]
  },
  {
   "cell_type": "code",
   "execution_count": 78,
   "id": "499c2205-9c74-48e0-a259-3665dea10cc5",
   "metadata": {},
   "outputs": [
    {
     "name": "stdin",
     "output_type": "stream",
     "text": [
      "Enter First coeficient of quadratic equation 2\n",
      "Enter Second coeficient of quadratic equation 4\n",
      "Enter Third coeficient of quadratic equation 2\n"
     ]
    },
    {
     "name": "stdout",
     "output_type": "stream",
     "text": [
      "\n",
      "Root is:  -1.0\n"
     ]
    }
   ],
   "source": [
    "#11. Write a program that calculates the roots of a quadratic equation .\n",
    "a = float(input(\"Enter First coeficient of quadratic equation\"))\n",
    "b = float(input(\"Enter Second coeficient of quadratic equation\"))\n",
    "c = float(input(\"Enter Third coeficient of quadratic equation\"))\n",
    "        \n",
    "\n",
    "if (b**2-4*a*c)**0.5 !=0:     \n",
    "    root1 = (-b+(b**2-4*a*c)**0.5)/(2*a)\n",
    "    root2 = (-b-(b**2-4*a*c)**0.5)/(2*a)\n",
    "    print(f\"\\nRoots are: {root1} , {root2}\")\n",
    "else:\n",
    "    print(\"\\nRoot is: \",-b/(2*a))\n",
    "    "
   ]
  },
  {
   "cell_type": "code",
   "execution_count": 79,
   "id": "681959d9-18c8-403a-a179-852f8ebe2479",
   "metadata": {},
   "outputs": [
    {
     "name": "stdin",
     "output_type": "stream",
     "text": [
      "Enter day number: 3\n"
     ]
    },
    {
     "name": "stdout",
     "output_type": "stream",
     "text": [
      "Wednesday\n"
     ]
    }
   ],
   "source": [
    "#12. Create a program that determines the day of the week based on the day number (1-7).\n",
    "\n",
    "daynumber = int(input(\"Enter day number:\"))\n",
    "days = [\"Monday\",\"Tuesday\",\"Wednesday\",\"Thursday\",\"Friday\",\"Saturday\",\"Sunday\"]\n",
    "if 1<=daynumber<=7:\n",
    "    print(days[daynumber-1])\n",
    "else:\n",
    "    print(\"Not valid day number\")"
   ]
  },
  {
   "cell_type": "code",
   "execution_count": 85,
   "id": "cd4051bc-9f59-45b1-9c7b-5189272075f2",
   "metadata": {},
   "outputs": [
    {
     "name": "stdin",
     "output_type": "stream",
     "text": [
      "Enter a number to find factorial: 5\n"
     ]
    },
    {
     "name": "stdout",
     "output_type": "stream",
     "text": [
      "120\n"
     ]
    }
   ],
   "source": [
    "#13. Develop a program that calculates the factorial of a given number using recursion.\n",
    "\n",
    "def factorial(num):\n",
    "    if num==0:\n",
    "        return 1\n",
    "    else:\n",
    "        return num*factorial(num-1)\n",
    "\n",
    "num = int(input(\"Enter a number to find factorial:\"))\n",
    "print(factorial(num))"
   ]
  },
  {
   "cell_type": "code",
   "execution_count": 86,
   "id": "da2b2932-2924-41ac-8e86-550b18d417ad",
   "metadata": {},
   "outputs": [
    {
     "name": "stdin",
     "output_type": "stream",
     "text": [
      "Enter three numbers seperated by space: 2 4 5\n"
     ]
    },
    {
     "name": "stdout",
     "output_type": "stream",
     "text": [
      "5.0 is largest number\n"
     ]
    }
   ],
   "source": [
    "#14. Write a program to find the largest among three numbers without using the `max()` function.\n",
    "\n",
    "nums = input(\"Enter three numbers seperated by space:\").split()\n",
    "num1,num2,num3 = float(nums[0]),float(nums[1]),float(nums[2])\n",
    "if num1>num2:\n",
    "    if num1>num3:\n",
    "        print(f\"{num1} is largest number\")\n",
    "    else:\n",
    "        print(f\"{num3} is largest number\")\n",
    "\n",
    "elif num2>num3:\n",
    "    print(f\"{num2} is largest number\")\n",
    "else:\n",
    "    print(f\"{num3} is largest number\")\n"
   ]
  },
  {
   "cell_type": "code",
   "execution_count": 92,
   "id": "d301cf05-7f1e-4fcc-a26c-23a1135e7e97",
   "metadata": {},
   "outputs": [
    {
     "name": "stdout",
     "output_type": "stream",
     "text": [
      "Welcome to the ATM\n",
      "1. Check Balance\n",
      "2. Deposit\n",
      "3. Withdraw\n",
      "4. Quit\n",
      "\n"
     ]
    },
    {
     "name": "stdin",
     "output_type": "stream",
     "text": [
      "Enter 4 digit pin: 1234\n",
      "Select a option: 3\n",
      "Enter amount to withdraw: 10\n"
     ]
    },
    {
     "name": "stdout",
     "output_type": "stream",
     "text": [
      "Updated Bal = 9990.0\n"
     ]
    }
   ],
   "source": [
    "#15. Create a program that simulates a basic ATM transaction menu.\n",
    "\n",
    "main_bal = 10000\n",
    "# Define the main menu function\n",
    "def main_menu():\n",
    "    print(\"Welcome to the ATM\")\n",
    "    print(\"1. Check Balance\")\n",
    "    print(\"2. Deposit\")\n",
    "    print(\"3. Withdraw\")\n",
    "    print(\"4. Quit\")\n",
    "    print()\n",
    "\n",
    "def Check_balance(pin):\n",
    "    if pin==1234:\n",
    "        return (f\"Balance is Rs.{main_bal}\")\n",
    "\n",
    "def deposit(pin,amount):\n",
    "    global main_bal\n",
    "    if pin==1234:\n",
    "        main_bal+=amount\n",
    "        return( f\"Updated Bal = {main_bal}\")\n",
    "\n",
    "def withdraw(pin,amount):\n",
    "    global main_bal\n",
    "    if pin==1234:\n",
    "        main_bal-=amount\n",
    "        return (f\"Updated Bal = {main_bal}\")\n",
    "\n",
    "    \n",
    "main_menu()\n",
    "pin = int(input(\"Enter 4 digit pin:\"))\n",
    "option = int(input(\"Select a option:\"))\n",
    "if option==1:\n",
    "    print(Check_balance(pin))\n",
    "        \n",
    "elif option==2:\n",
    "    amount= float(input(\"Enter amount to deposit:\"))\n",
    "    print(deposit(pin,amount))\n",
    "    \n",
    "elif option==3:\n",
    "    amount= float(input(\"Enter amount to withdraw:\"))\n",
    "    print(withdraw(pin,amount))\n",
    "        \n",
    "if option==4:\n",
    "        print(\"Thank you for using the ATM\")\n",
    "        \n"
   ]
  },
  {
   "cell_type": "code",
   "execution_count": 96,
   "id": "3fb7318d-d92d-4843-85fa-8517bcaddc8e",
   "metadata": {},
   "outputs": [
    {
     "name": "stdin",
     "output_type": "stream",
     "text": [
      "Enter a string to check palindrome: Malayalam\n"
     ]
    },
    {
     "name": "stdout",
     "output_type": "stream",
     "text": [
      "Malayalam is Palindrome\n"
     ]
    }
   ],
   "source": [
    "#16. Build a program that checks if a given string is a palindrome or not.\n",
    "\n",
    "string = input(\"Enter a string to check palindrome:\")\n",
    "print(f\"{string} is Palindrome\" if string.lower()==string[::-1].lower() else f\"{string} is not Palindrome\")"
   ]
  },
  {
   "cell_type": "code",
   "execution_count": 106,
   "id": "2e0e2391-7627-4e46-bd8c-a69d3ebc6371",
   "metadata": {},
   "outputs": [
    {
     "name": "stdout",
     "output_type": "stream",
     "text": [
      "Average is: 2.5\n"
     ]
    }
   ],
   "source": [
    "#17. Write a program that calculates the average of a list of numbers, excluding the smallest and largest values.\n",
    "\n",
    "list_nums = [1,2,3,4] \n",
    "max_val = max(list_nums)\n",
    "min_val = min(list_nums)\n",
    "sum_ = sum(list_nums)-max_val-min_val\n",
    "print(\"Average is:\",sum_/(len(list_nums)-2))"
   ]
  },
  {
   "cell_type": "code",
   "execution_count": 109,
   "id": "ff275861-73d6-4791-873a-8512cab7a4f3",
   "metadata": {},
   "outputs": [
    {
     "name": "stdin",
     "output_type": "stream",
     "text": [
      "Enter celcius value for conversion to fahrenheit 0\n"
     ]
    },
    {
     "name": "stdout",
     "output_type": "stream",
     "text": [
      "Fahrenheit value is: 32.0\n"
     ]
    }
   ],
   "source": [
    "#18. Develop a program that converts a given temperature from Celsius to Fahrenheit.\n",
    "\n",
    "c = float(input(\"Enter celcius value for conversion to fahrenheit\"))\n",
    "f= c*(9/5)+32\n",
    "print(\"Fahrenheit value is:\",f)"
   ]
  },
  {
   "cell_type": "code",
   "execution_count": 112,
   "id": "b63b8f52-4aab-47c6-90c7-2e2e272a8976",
   "metadata": {},
   "outputs": [
    {
     "name": "stdin",
     "output_type": "stream",
     "text": [
      "Enter first number 1\n",
      "Enter second number 2\n",
      "Enter operator(+,-,*,/): +\n"
     ]
    },
    {
     "name": "stdout",
     "output_type": "stream",
     "text": [
      "3\n"
     ]
    }
   ],
   "source": [
    "#19. Create a program that simulates a basic calculator for addition, subtraction, multiplication, and division.\n",
    "\n",
    "def calc(num1,num2,operator):\n",
    "    if operator ==\"+\":\n",
    "        return num1+num2\n",
    "    if operator ==\"-\":\n",
    "        return num1+num2\n",
    "    if operator ==\"*\":\n",
    "        return num1+num2\n",
    "    if operator ==\"/\":\n",
    "        return num1+num2\n",
    "    \n",
    "num1,num2 = int(input(\"Enter first number\")),int(input(\"Enter second number\"))\n",
    "operator = input(\"Enter operator(+,-,*,/):\")\n",
    "print(calc(num1,num2,operator))\n"
   ]
  },
  {
   "cell_type": "code",
   "execution_count": 115,
   "id": "b99ab6d8-f8fc-44ba-992e-7b8e8677adc7",
   "metadata": {},
   "outputs": [
    {
     "name": "stdin",
     "output_type": "stream",
     "text": [
      "Enter coefficient a:  1\n",
      "Enter coefficient b:  8\n",
      "Enter coefficient c:  19\n",
      "Enter coefficient d:  12\n"
     ]
    },
    {
     "name": "stdout",
     "output_type": "stream",
     "text": [
      "Roots of the cubic equation:\n",
      "Root: -1.000\n",
      "Root: -4.000\n",
      "Root: -3.000\n"
     ]
    }
   ],
   "source": [
    "#20. Write a program that determines the roots of a cubic equation using the Cardano formula.\n",
    "\n",
    "import math\n",
    "\n",
    "# Function to find the roots of a cubic equation using Cardano's method\n",
    "def solve_cubic(a, b, c, d):\n",
    "    # Calculate p, q, and delta\n",
    "    p = (3 * a * c - b**2) / (3 * a**2)\n",
    "    q = (2 * b**3 - 9 * a * b * c + 27 * a**2 * d) / (27 * a**3)\n",
    "    delta = (q / 2)**2 + (p / 3)**3\n",
    "\n",
    "    # Check if delta is positive or negative\n",
    "    if delta > 0:\n",
    "        u = (-q / 2 + math.sqrt(delta))**(1/3)\n",
    "        v = (-q / 2 - math.sqrt(delta))**(1/3)\n",
    "        real_root = -b / (3 * a)\n",
    "        root1 = u + v + real_root\n",
    "        root2 = -(u + v) / 2 + real_root + (u - v) * math.sqrt(3) / 2\n",
    "        root3 = -(u + v) / 2 + real_root - (u - v) * math.sqrt(3) / 2\n",
    "        return root1, root2, root3\n",
    "\n",
    "    elif delta == 0:\n",
    "        if q < 0:\n",
    "            u = (-q / 2)**(1/3)\n",
    "            root1 = 2 * u - b / (3 * a)\n",
    "            root2 = -u - b / (3 * a)\n",
    "            return root1, root2\n",
    "        else:\n",
    "            u = (q / 2)**(1/3)\n",
    "            root1 = -2 * u - b / (3 * a)\n",
    "            root2 = u - b / (3 * a)\n",
    "            return root1, root2\n",
    "\n",
    "    else:\n",
    "        rho = math.sqrt((q / 2)**2 - delta)\n",
    "        theta = math.acos(-(q / 2) / rho)\n",
    "        u = rho**(1/3)\n",
    "        root1 = 2 * u * math.cos(theta / 3) - b / (3 * a)\n",
    "        root2 = 2 * u * math.cos((theta + 2 * math.pi) / 3) - b / (3 * a)\n",
    "        root3 = 2 * u * math.cos((theta + 4 * math.pi) / 3) - b / (3 * a)\n",
    "        return root1, root2, root3\n",
    "\n",
    "    return None\n",
    "\n",
    "# Input coefficients of the cubic equation (ax^3 + bx^2 + cx + d = 0)\n",
    "a = float(input(\"Enter coefficient a: \"))\n",
    "b = float(input(\"Enter coefficient b: \"))\n",
    "c = float(input(\"Enter coefficient c: \"))\n",
    "d = float(input(\"Enter coefficient d: \"))\n",
    "\n",
    "# Find and print the roots\n",
    "roots = solve_cubic(a, b, c, d)\n",
    "if roots:\n",
    "    print(\"Roots of the cubic equation:\")\n",
    "    for root in roots:\n",
    "        print(f\"Root: {root:.3f}\")\n",
    "else:\n",
    "    print(\"No real roots found.\")\n",
    "\n"
   ]
  },
  {
   "cell_type": "markdown",
   "id": "cf3e6a21-4201-4bbe-9d90-8c3eff8e0db2",
   "metadata": {},
   "source": [
    "# Advanced Level-----------\n",
    "\n"
   ]
  },
  {
   "cell_type": "code",
   "execution_count": 20,
   "id": "f205979e-5bc4-4f92-b3c1-5fe71c8159b8",
   "metadata": {},
   "outputs": [
    {
     "name": "stdin",
     "output_type": "stream",
     "text": [
      "Enter annual gross income: 700000\n",
      "Enter eligible_deductions: 100000\n"
     ]
    },
    {
     "name": "stdout",
     "output_type": "stream",
     "text": [
      "32500.0\n"
     ]
    }
   ],
   "source": [
    "#21. Create a program that calculates the income tax based on the user's income and tax brackets.\n",
    "\n",
    "annual_gross_income = float(input(\"Enter annual gross income:\"))\n",
    "eligible_deductions = float(input(\"Enter eligible_deductions:\"))\n",
    "taxable_income =  annual_gross_income - eligible_deductions\n",
    "t_i = taxable_income/100000\n",
    "tax_slab = [2.5,5,10]          #all elements inside it are in Lakhs\n",
    "tax_rate = [0,0.05,0.2]        #all rate in (percent value)/100\n",
    "tax_amount = 0\n",
    "\n",
    "for i in range(len(tax_slab)):\n",
    "    if t_i<=0:           #if tax_income less than 0\n",
    "        break\n",
    "    \n",
    "    elif t_i <= tax_slab[i]:  \n",
    "        if tax_slab[i]-tax_slab[i-1]<=t_i and i!=0:\n",
    "            tax_amount += tax_rate[i]*(tax_slab[i]-tax_slab[i-1])*100000\n",
    "            t_i-=(tax_slab[i]-tax_slab[i-1])\n",
    "        \n",
    "        else:\n",
    "            tax_amount += tax_rate[i]*t_i*100000\n",
    "            break\n",
    "    \n",
    "    else:\n",
    "        if i==0:\n",
    "            tax_amount += tax_rate[i]*tax_slab[i]*100000\n",
    "            t_i -= tax_slab[i]\n",
    "            \n",
    "        else:\n",
    "            tax_amount += tax_rate[i]*(tax_slab[i]-tax_slab[i-1])*100000\n",
    "            t_i-=(tax_slab[i]-tax_slab[i-1])\n",
    "            \n",
    "        \n",
    "if t_i>5:        #if taxable income exceeds 10 lakh\n",
    "    tax_amount +=0.3*t_i*100000\n",
    "            \n",
    "print(tax_amount)           \n",
    "    "
   ]
  },
  {
   "cell_type": "code",
   "execution_count": 43,
   "id": "76416b82-ad73-4d3a-9fb2-2cdae2950b1d",
   "metadata": {},
   "outputs": [
    {
     "name": "stdout",
     "output_type": "stream",
     "text": [
      "Welcome to the ROCK-PAPER-SCISSOR \n",
      "\n"
     ]
    },
    {
     "name": "stdin",
     "output_type": "stream",
     "text": [
      "Choose 1-ROCK, 2-PAPER, 3-SCISSOR: 2\n"
     ]
    },
    {
     "name": "stdout",
     "output_type": "stream",
     "text": [
      "Computer choice = paper, User choice = paper\n",
      "It's a tie\n"
     ]
    },
    {
     "name": "stdin",
     "output_type": "stream",
     "text": [
      "Choose 1-ROCK, 2-PAPER, 3-SCISSOR: 1\n"
     ]
    },
    {
     "name": "stdout",
     "output_type": "stream",
     "text": [
      "Computer choice = scissor, User choice = rock\n",
      "User wins\n",
      "Thank you for playing\n"
     ]
    }
   ],
   "source": [
    "#22. Write a program that simulates a rock-paper-scissors game against the computer.\n",
    "\n",
    "import random\n",
    "\n",
    "option = [\"rock\",\"paper\",\"scissor\"]\n",
    "print(\"Welcome to the ROCK-PAPER-SCISSOR \\n\")\n",
    "while True:\n",
    "    choice = int(input(\"Choose 1-ROCK, 2-PAPER, 3-SCISSOR:\"))\n",
    "    c = random.choice(option)\n",
    "    if option[choice-1]==c:\n",
    "        print(f\"Computer choice = {c}, User choice = {option[choice-1]}\")\n",
    "        print(\"It's a tie\")\n",
    "        continue\n",
    "    else:\n",
    "        if c ==\"rock\" and option[choice-1]==\"paper\":\n",
    "            print(f\"Computer choice = {c}, User choice = {option[choice-1]}\")\n",
    "            print(\"User wins\")\n",
    "            break\n",
    "            \n",
    "        elif c ==\"rock\" and option[choice-1]==\"scissor\":\n",
    "            print(f\"Computer choice = {c}, User choice = {option[choice-1]}\")\n",
    "            print(\"Computer wins\")\n",
    "            break\n",
    "            \n",
    "        elif c ==\"paper\" and option[choice-1]==\"rock\":\n",
    "            print(f\"Computer choice = {c}, User choice = {option[choice-1]}\")\n",
    "            print(\"Computer wins\")\n",
    "            break\n",
    "            \n",
    "        elif c ==\"paper\" and option[choice-1]==\"scissor\":\n",
    "            print(f\"Computer choice = {c}, User choice = {option[choice-1]}\")\n",
    "            print(\"User wins\")\n",
    "            break\n",
    "            \n",
    "        elif c ==\"scissor\" and option[choice-1]==\"rock\":\n",
    "            print(f\"Computer choice = {c}, User choice = {option[choice-1]}\")\n",
    "            print(\"User wins\")\n",
    "            break\n",
    "            \n",
    "        elif c ==\"scissor\" and option[choice-1]==\"paper\":\n",
    "            print(f\"Computer choice = {c}, User choice = {option[choice-1]}\")\n",
    "            print(\"Computer wins\")\n",
    "            break\n",
    "        \n",
    "print(\"Thank you for playing\")"
   ]
  },
  {
   "cell_type": "code",
   "execution_count": 115,
   "id": "2957e2f3-8175-4a15-a7a7-fc7f06e2a4b2",
   "metadata": {},
   "outputs": [
    {
     "name": "stdin",
     "output_type": "stream",
     "text": [
      "Enter password length(greater than 5): 10\n"
     ]
    },
    {
     "name": "stdout",
     "output_type": "stream",
     "text": [
      "\n",
      "              ------Choose complexity----------\n",
      "            {Enter 0 or 1 (Yes or No) seperated by space consicutively}\n",
      "        \n",
      "                 special character \n",
      "                 numbers\n",
      "                 Need atleast one capital \n"
     ]
    },
    {
     "name": "stdin",
     "output_type": "stream",
     "text": [
      "Enter: 1 1 1\n"
     ]
    },
    {
     "name": "stdout",
     "output_type": "stream",
     "text": [
      "Generated Password: 7258;_)Ton\n"
     ]
    }
   ],
   "source": [
    "#23. Develop a program that generates a random password based on user preferences (length, complexity).\n",
    "import string as s\n",
    "import random\n",
    "\n",
    "def generator_special_char():\n",
    "    global length,password\n",
    "    for i in range(random.randint(1,(length//3)+1)):\n",
    "                   password += random.choice(list(s.punctuation))\n",
    "\n",
    "def generator_num():\n",
    "    global length,password\n",
    "    for i in range(random.randint(1,(length//2)+1)):\n",
    "                   password += random.choice(list(s.digits))\n",
    "\n",
    "\n",
    "while True:\n",
    "    length= int(input((\"Enter password length(greater than 5):\")))\n",
    "    if length <5:\n",
    "        print(\"length should be  more than 5\")\n",
    "    else:\n",
    "        break\n",
    "        \n",
    "print()\n",
    "print(\"\"\"              ------Choose complexity----------\n",
    "            {Enter 0 or 1 (Yes or No) seperated by space consicutively}\n",
    "        \n",
    "                 special character \n",
    "                 numbers\n",
    "                 Need atleast one capital \"\"\")\n",
    "\n",
    "list_ = input(\"Enter:\").split()\n",
    "password =\"\"\n",
    "                   \n",
    "if list_[1]=='1':\n",
    "    generator_num()\n",
    "                   \n",
    "if list_[0]=='1':\n",
    "    generator_special_char()\n",
    "                   \n",
    "if list_[2]=='1':\n",
    "    password+=random.choice(list(s.ascii_uppercase))\n",
    "        \n",
    "        \n",
    "       \n",
    "r = length-len(password)\n",
    "if (len(password)<=length):\n",
    "    for i in range(r):\n",
    "        password+=random.choice(list(s.ascii_lowercase))\n",
    "                   \n",
    "            \n",
    "print(\"Generated Password:\",password)"
   ]
  },
  {
   "cell_type": "code",
   "execution_count": 24,
   "id": "ff0f8583-46d6-44d7-ad63-83abf5452d10",
   "metadata": {},
   "outputs": [
    {
     "name": "stdout",
     "output_type": "stream",
     "text": [
      "You find yourself standing at the entrance of a dark cave.\n",
      "You can either enter the cave or turn back. What do you want to do?\n"
     ]
    },
    {
     "name": "stdin",
     "output_type": "stream",
     "text": [
      "Enter '1' to enter the cave, '2' to turn back:  1\n"
     ]
    },
    {
     "name": "stdout",
     "output_type": "stream",
     "text": [
      "You enter the cave and discover two tunnels.\n",
      "Do you want to take the left tunnel or the right tunnel?\n"
     ]
    },
    {
     "name": "stdin",
     "output_type": "stream",
     "text": [
      "Enter '1' for left tunnel, '2' for right tunnel:  1\n"
     ]
    },
    {
     "name": "stdout",
     "output_type": "stream",
     "text": [
      "You find yourself in a room filled with treasure!\n",
      "Congratulations! You've found the hidden treasure.\n",
      "You win!\n"
     ]
    }
   ],
   "source": [
    "#24. Create a program that implements a simple text-based adventure game with branching scenarios.\n",
    "\n",
    "import time\n",
    "\n",
    "def story_intro():\n",
    "    print(\"You find yourself standing at the entrance of a dark cave.\")\n",
    "    time.sleep(1)\n",
    "    print(\"You can either enter the cave or turn back. What do you want to do?\")\n",
    "    choice = input(\"Enter '1' to enter the cave, '2' to turn back: \")\n",
    "    return choice\n",
    "\n",
    "def cave_adventure():\n",
    "    print(\"You enter the cave and discover two tunnels.\")\n",
    "    time.sleep(1)\n",
    "    print(\"Do you want to take the left tunnel or the right tunnel?\")\n",
    "    choice = input(\"Enter '1' for left tunnel, '2' for right tunnel: \")\n",
    "    return choice\n",
    "\n",
    "def treasure_room():\n",
    "    print(\"You find yourself in a room filled with treasure!\")\n",
    "    time.sleep(1)\n",
    "    print(\"Congratulations! You've found the hidden treasure.\")\n",
    "    print(\"You win!\")\n",
    "    \n",
    "def dragon_room():\n",
    "    print(\"You enter the dragon's lair.\")\n",
    "    time.sleep(1)\n",
    "    print(\"A fierce dragon blocks your path.\")\n",
    "    time.sleep(1)\n",
    "    print(\"Do you want to fight the dragon or run away?\")\n",
    "    choice = input(\"Enter '1' to fight the dragon, '2' to run away: \")\n",
    "    return choice\n",
    "\n",
    "def game_over():\n",
    "    print(\"Game over! You didn't make it to the end of the adventure.\")\n",
    "\n",
    "\n",
    "choice = story_intro()\n",
    "    \n",
    "if choice == '1':\n",
    "    choice = cave_adventure()\n",
    "    if choice == '1':\n",
    "        treasure_room()\n",
    "    else:\n",
    "        choice = dragon_room()\n",
    "        if choice == '1':\n",
    "            print(\"You tried to fight the dragon, but you were no match. Game over!\")\n",
    "        else:\n",
    "            print(\"You ran away from the dragon. Unfortunately, it was a dead-end. Game over!\")\n",
    "else:\n",
    "    game_over()\n",
    "\n"
   ]
  },
  {
   "cell_type": "code",
   "execution_count": 19,
   "id": "f07d3c8a-a1ef-4a66-a5ea-b8a160526497",
   "metadata": {},
   "outputs": [
    {
     "name": "stdin",
     "output_type": "stream",
     "text": [
      "Enter the value of 'a':  1\n",
      "Enter the value of 'b':  2\n"
     ]
    },
    {
     "name": "stdout",
     "output_type": "stream",
     "text": [
      "Solution: x = -2.00\n"
     ]
    }
   ],
   "source": [
    "#25. Build a program that solves a linear equation  for x, considering different cases.\n",
    "\n",
    "a = float(input(\"Enter the value of 'a': \"))\n",
    "b = float(input(\"Enter the value of 'b': \"))\n",
    "\n",
    "if a == 0:\n",
    "    if b == 0:\n",
    "        print(\"Infinite solutions: 0x = 0\")\n",
    "    else:\n",
    "        print(\"No solution: 0x = {} (where {} is not equal to 0)\".format(b, b))\n",
    "else:\n",
    "    x = -b / a\n",
    "    print(\"Solution: x = {:.2f}\".format(x))\n",
    "\n"
   ]
  },
  {
   "cell_type": "code",
   "execution_count": 18,
   "id": "45f06123-bdf4-40bb-a296-71186f6de582",
   "metadata": {},
   "outputs": [
    {
     "name": "stdout",
     "output_type": "stream",
     "text": [
      "Welcome to Quiz game\n",
      "\n",
      " Rules\n",
      "1)Every correct answer score is increased by point 1\n",
      "2)For every incorrect answer point 0 is given\n",
      "\n",
      "Quiz will start in 5secs\n",
      "\n",
      "5\n",
      "4\n",
      "3\n",
      "2\n",
      "1\n",
      "Q1) What is the capitl of India?\n",
      "\n",
      "options:\n",
      "1) New Delhi\n",
      "2) Jaipur\n",
      "3) Lucknow\n",
      "4) Chennai\n",
      "\n"
     ]
    },
    {
     "name": "stdin",
     "output_type": "stream",
     "text": [
      "Enter choice: 1\n"
     ]
    },
    {
     "name": "stdout",
     "output_type": "stream",
     "text": [
      "\n",
      "Congratulations Correct Answer Given \n",
      "\n",
      "Q2) Which scientist discovered Gravity?\n",
      "\n",
      "options:\n",
      "1) Albert Einstein\n",
      "2) Thomas Eddison\n",
      "3) Isac Newton\n",
      "4) Edington\n"
     ]
    },
    {
     "name": "stdin",
     "output_type": "stream",
     "text": [
      "Enter choice: 3\n"
     ]
    },
    {
     "name": "stdout",
     "output_type": "stream",
     "text": [
      "\n",
      "Congratulations Correct Answer Given \n",
      "\n",
      "Q3) Who is known as father of India?\n",
      "\n",
      "options:\n",
      "1) Mahatma Gandhi\n",
      "2) Subash chandra Bose\n",
      "3) Lal bahadur sashtri\n",
      "4) Jawaharlal Nehru\n"
     ]
    },
    {
     "name": "stdin",
     "output_type": "stream",
     "text": [
      "Enter choice: 1\n"
     ]
    },
    {
     "name": "stdout",
     "output_type": "stream",
     "text": [
      "\n",
      "Congratulations Correct Answer Given \n",
      "\n",
      "Final score: 3/3\n"
     ]
    }
   ],
   "source": [
    "#26. Write a program that simulates a basic quiz game with multiple-choice questions and scoring.\n",
    "\n",
    "import time\n",
    "\n",
    "def timer():\n",
    "    for i in range(5, 0, -1):\n",
    "        print(i)\n",
    "        time.sleep(1)\n",
    "\n",
    "\n",
    "print(\"Welcome to Quiz game\")\n",
    "score =0\n",
    "print()\n",
    "print(\"\"\" Rules\n",
    "1)Every correct answer score is increased by point 1\n",
    "2)For every incorrect answer point 0 is given\"\"\")\n",
    "print()\n",
    "print(\"Quiz will start in 5secs\\n\")\n",
    "timer()\n",
    "\n",
    "print(\"\"\"Q1) What is the capitl of India?\n",
    "\n",
    "options:\n",
    "1) New Delhi\n",
    "2) Jaipur\n",
    "3) Lucknow\n",
    "4) Chennai\"\"\")\n",
    "print()\n",
    "c = int(input(\"Enter choice:\"))\n",
    "print()\n",
    "if c==1:\n",
    "    print(\"Congratulations Correct Answer Given \\n\")\n",
    "    score+=1\n",
    "    \n",
    "else:\n",
    "    print(\"Oops,wrong answer \\n\")\n",
    "    \n",
    "print(\"\"\"Q2) Which scientist discovered Gravity?\n",
    "\n",
    "options:\n",
    "1) Albert Einstein\n",
    "2) Thomas Eddison\n",
    "3) Isac Newton\n",
    "4) Edington\"\"\")\n",
    "\n",
    "c = int(input(\"Enter choice:\"))\n",
    "print()\n",
    "if c==3:\n",
    "    print(\"Congratulations Correct Answer Given \\n\")\n",
    "    score+=1\n",
    "\n",
    "else:\n",
    "    print(\"Oops,wrong answer \\n\")\n",
    "    \n",
    "print(\"\"\"Q3) Who is known as father of India?\n",
    "\n",
    "options:\n",
    "1) Mahatma Gandhi\n",
    "2) Subash chandra Bose\n",
    "3) Lal bahadur sashtri\n",
    "4) Jawaharlal Nehru\"\"\")\n",
    "\n",
    "\n",
    "c = int(input(\"Enter choice:\"))\n",
    "print()\n",
    "if c==1:\n",
    "    print(\"Congratulations Correct Answer Given \\n\")\n",
    "    score+=1\n",
    "else:\n",
    "    print(\"Oops,wrong answer \\n\")\n",
    "    \n",
    "print(f\"Final score: {score}/3\")"
   ]
  },
  {
   "cell_type": "code",
   "execution_count": 9,
   "id": "8191ae52-2ff9-4da0-a54d-66ad30029b16",
   "metadata": {},
   "outputs": [
    {
     "name": "stdin",
     "output_type": "stream",
     "text": [
      "Enter the year to check: 1997\n"
     ]
    },
    {
     "name": "stdout",
     "output_type": "stream",
     "text": [
      "1997 is prime year\n"
     ]
    }
   ],
   "source": [
    "#27. Develop a program that determines whether a given year is a prime number or not.\n",
    "\n",
    "def is_prime(num):\n",
    "    if num<=1:\n",
    "        return False\n",
    "    for i in range(2,int(num**0.5)+1):\n",
    "        if num%i==0:\n",
    "            return False\n",
    "        \n",
    "    return True\n",
    "\n",
    "year = int(input(\"Enter the year to check:\"))\n",
    "if is_prime(year):\n",
    "    print(f\"{year} is prime year\")\n",
    "    \n",
    "else:\n",
    "    print(f\"{year} is not prime year\")"
   ]
  },
  {
   "cell_type": "code",
   "execution_count": 31,
   "id": "cf477e45-9bf5-42a0-b964-6f8129c15728",
   "metadata": {},
   "outputs": [
    {
     "name": "stdin",
     "output_type": "stream",
     "text": [
      "Enter first number: 0\n",
      "Enter second number: 12\n",
      "Enter third number: 1\n"
     ]
    },
    {
     "name": "stdout",
     "output_type": "stream",
     "text": [
      "Numbers are sorted in ascending order is : [0, 1, 12]\n"
     ]
    }
   ],
   "source": [
    "#28. Create a program that sorts three numbers in ascending order using conditional statements.\n",
    "\n",
    "num1 = int(input(\"Enter first number:\"))\n",
    "num2 = int(input(\"Enter second number:\"))\n",
    "num3 = int(input(\"Enter third number:\"))\n",
    "\n",
    "list_ = []\n",
    "list_.extend([num1,num2,num3])\n",
    "\n",
    "if list_[0]>list_[1]:\n",
    "    temp=list_[0]\n",
    "    list_[0]=list_[1]\n",
    "    list_[1]=temp\n",
    "    \n",
    "if list_[0]>list_[2]:\n",
    "    temp=list_[0]\n",
    "    list_[0]=list_[2]\n",
    "    list_[2]=temp\n",
    "    \n",
    "if list_[1]>list_[2]:\n",
    "    temp=list_[1]\n",
    "    list_[1]=list_[2]\n",
    "    list_[2]=temp\n",
    "    \n",
    "print(\"Numbers are sorted in ascending order is :\",list_)"
   ]
  },
  {
   "cell_type": "code",
   "execution_count": 4,
   "id": "67f0cad5-6e23-4bf4-a393-9fe221a96ccb",
   "metadata": {},
   "outputs": [
    {
     "name": "stdout",
     "output_type": "stream",
     "text": [
      "Roots of the quartic equation:\n",
      "Root: 1.0000\n",
      "Root: 1.0000\n",
      "Root: 2.0000\n"
     ]
    }
   ],
   "source": [
    "#29. Build a program that determines the roots of a quartic equation using numerical methods.\n",
    "\n",
    "from scipy.optimize import newton\n",
    "import numpy as np\n",
    "\n",
    "def quartic_equation(x, a, b, c, d, e):\n",
    "    return a * x**4 + b * x**3 + c * x**2 + d * x + e\n",
    "\n",
    "# Coefficients of the quartic equation: ax^4 + bx^3 + cx^2 + dx + e = 0\n",
    "a = 1\n",
    "b = -10\n",
    "c = 35\n",
    "d = -50\n",
    "e = 24\n",
    "\n",
    "# Use the Newton-Raphson method to find roots\n",
    "roots = []\n",
    "initial_guesses = [-2, -1, 1, 2]  # Starting points for root finding\n",
    "\n",
    "for guess in initial_guesses:\n",
    "    root = newton(quartic_equation, guess, args=(a, b, c, d, e))\n",
    "    roots.append(root)\n",
    "\n",
    "# Filter out duplicate roots\n",
    "unique_roots = np.unique(roots)\n",
    "\n",
    "print(\"Roots of the quartic equation:\")\n",
    "for root in unique_roots:\n",
    "    print(f\"Root: {root:.4f}\")\n"
   ]
  },
  {
   "cell_type": "code",
   "execution_count": 20,
   "id": "ddd116ac-c687-40a2-ad78-8135fa98122a",
   "metadata": {},
   "outputs": [
    {
     "name": "stdin",
     "output_type": "stream",
     "text": [
      "Enter weight of the person(in kg): 46\n",
      "Enter height of the person(in cm): 161\n"
     ]
    },
    {
     "name": "stdout",
     "output_type": "stream",
     "text": [
      "\n",
      "Category:- Underweight \n",
      "\n",
      "* Focus on eating a healthy diet that includes plenty of fruits, vegetables, and whole grains.\n",
      "    * Choose lean protein sources, such as fish, poultry, and beans.\n",
      "    * Limit processed foods, sugary drinks, and unhealthy fats.\n",
      "    * Get regular exercise.\n"
     ]
    }
   ],
   "source": [
    "#30. Write a program that calculates the BMI (Body Mass Index) and provides health recommendations based on the user's input.\n",
    "\n",
    "weight = float(input(\"Enter weight of the person(in kg):\"))\n",
    "height = float(input(\"Enter height of the person(in cm):\"))\n",
    "\n",
    "try:    \n",
    "    height = height/100\n",
    "    bmi =  weight/height**2\n",
    "    print()\n",
    "    print(\"Category:-\",end=\" \")\n",
    "    if bmi<18.5:\n",
    "        print(\"Underweight \\n\")\n",
    "        print(\"\"\"* Focus on eating a healthy diet that includes plenty of fruits, vegetables, and whole grains.\n",
    "    * Choose lean protein sources, such as fish, poultry, and beans.\n",
    "    * Limit processed foods, sugary drinks, and unhealthy fats.\n",
    "    * Get regular exercise.\"\"\")\n",
    "\n",
    "    if 18.5<=bmi<=24.9:\n",
    "        print(\"Healthy weight \\n\")\n",
    "        print(\"\"\"* Maintain a healthy diet and exercise routine.\n",
    "    * Get regular checkups with your doctor.\"\"\")\n",
    "\n",
    "    if 25<=bmi<=29.9:\n",
    "        print(\"Overweight \\n\")\n",
    "        print(\"\"\"* Make small changes to your diet and exercise habits.\n",
    "    * Aim to lose 5 to 10 percent of your body weight.\n",
    "    * Talk to your doctor about a weight loss plan that is right for you.\"\"\")\n",
    "\n",
    "    if bmi>=30:\n",
    "        print(\"Obese \\n\")\n",
    "        print(\"\"\"* Make significant changes to your diet and exercise habits.\n",
    "    * Aim to lose 10 percent or more of your body weight.\n",
    "    * Talk to your doctor about a weight loss plan that is right for you.\n",
    "    * Consider weight loss surgery or other medical interventions if you are unable to lose weight on your own.\"\"\")\n",
    "        \n",
    "except ZeroDivisionError  as e:\n",
    "        print(\"Invalid height or weight\")\n",
    "        \n",
    "\n"
   ]
  },
  {
   "cell_type": "markdown",
   "id": "a9020c52-84d8-4f85-aa45-785aa516e07a",
   "metadata": {},
   "source": [
    "# Challenge Level-----------\n"
   ]
  },
  {
   "cell_type": "code",
   "execution_count": null,
   "id": "a0cc285a-e17b-4bc1-a07e-9a23a6b116d8",
   "metadata": {},
   "outputs": [
    {
     "name": "stdin",
     "output_type": "stream",
     "text": [
      "Enter the password: hello\n"
     ]
    },
    {
     "name": "stdout",
     "output_type": "stream",
     "text": [
      "Password must have atleast one number\n",
      "Password must have atleast one Upper case\n",
      "Password must have atleast one special character\n"
     ]
    }
   ],
   "source": [
    "#31. Create a program that validates a password based on complexity rules (length, characters, etc.).\n",
    "\n",
    "def passwordUpper(password):\n",
    "    result = [True if i in \"ABCDEFGHIJKLMNOPQRSTUVWXYZ\" else False for i in password]\n",
    "    return(True if True in result else False)\n",
    "\n",
    "def passwordNum(password):\n",
    "    result = [True if i in \"1234567890\" else False for i in password]\n",
    "    return(True if True in result else False)\n",
    "\n",
    "def passwordSpecialC(password):\n",
    "    return (True if password.isalnum()  else False)\n",
    "\n",
    "\n",
    "def validation(password):\n",
    "    list_ = []\n",
    "    if not (len(password)>=5):\n",
    "        list_.append(\"Password must have minimum length of 5 characters\")\n",
    "    \n",
    "    if not passwordNum(password):\n",
    "         list_.append(\"Password must have atleast one number\")\n",
    "        \n",
    "    if not passwordUpper(password):\n",
    "         list_.append(\"Password must have atleast one Upper case\")\n",
    "    \n",
    "    if  passwordSpecialC(password):\n",
    "         list_.append(\"Password must have atleast one special character\")\n",
    "            \n",
    "    if not list_:\n",
    "        print(\"Valid Password\")\n",
    "    else:\n",
    "        for i in list_:\n",
    "            print(i)\n",
    "        \n",
    "\n",
    "password = input(\"Enter the password:\")\n",
    "validation(password)"
   ]
  },
  {
   "cell_type": "code",
   "execution_count": 3,
   "id": "5772fbfa-aba2-463c-830c-9f05f103981c",
   "metadata": {},
   "outputs": [
    {
     "name": "stdout",
     "output_type": "stream",
     "text": [
      "Enter first 3X3 Matrix values by rowwise seperated by space:\n"
     ]
    },
    {
     "name": "stdin",
     "output_type": "stream",
     "text": [
      " 1\n",
      " 2\n",
      " 3\n",
      " 4\n",
      " 5\n",
      " 6\n",
      " 7\n",
      " 8\n",
      " 9\n"
     ]
    },
    {
     "name": "stdout",
     "output_type": "stream",
     "text": [
      "\n",
      "Enter second 3X3 Matrix values by rowwise seperated by space:\n"
     ]
    },
    {
     "name": "stdin",
     "output_type": "stream",
     "text": [
      " 1\n",
      " 2\n",
      " 3\n",
      " 4\n",
      " 5\n",
      " 6\n",
      " 7\n",
      " 8\n",
      " 9\n"
     ]
    },
    {
     "name": "stdout",
     "output_type": "stream",
     "text": [
      "Addition of matrices:\n",
      "| 2   4   6   |\n",
      "| 8   10  12  |\n",
      "| 14  16  18  |\n",
      "\n",
      "Subtraction of matrices\n",
      "| 0   0   0   |\n",
      "| 0   0   0   |\n",
      "| 0   0   0   |\n"
     ]
    }
   ],
   "source": [
    "#32. Develop a program that performs matrix addition and subtraction based on user input.\n",
    "\n",
    "def matrix_Assign(list_,matrix):\n",
    "    matrix.append(list_[:3])\n",
    "    matrix.append(list_[3:6])\n",
    "    matrix.append(list_[6:9])\n",
    "\n",
    "\n",
    "def scan_values():\n",
    "    list_ =[]\n",
    "    for i in range(9):\n",
    "        j = int(input())\n",
    "        list_.append(j)\n",
    "    return list_\n",
    "\n",
    "def print_matrix(matrix):\n",
    "    for i in matrix:\n",
    "        print(\"| \",end=\"\")\n",
    "        for j in i:\n",
    "            print(f\"{j:<3}\",end=\" \")\n",
    "        print(\"|\",end=\"\")\n",
    "        print()\n",
    "\n",
    "try:\n",
    "    print(\"Enter first 3X3 Matrix values by rowwise seperated by space:\")\n",
    "    list_1 = scan_values()\n",
    "\n",
    "    print()\n",
    "    print(\"Enter second 3X3 Matrix values by rowwise seperated by space:\")\n",
    "    list_2 = scan_values()\n",
    "    \n",
    "    addition=[]\n",
    "    for i in range(9):\n",
    "        addition.append(list_1[i]+list_2[i])\n",
    "\n",
    "    subtraction=[]\n",
    "    for i in range(9):\n",
    "        subtraction.append(list_1[i]-list_2[i])\n",
    "\n",
    "    addition_matrix=[]\n",
    "    matrix_Assign(addition,addition_matrix)\n",
    "\n",
    "    subtraction_matrix=[]\n",
    "    matrix_Assign(subtraction,subtraction_matrix)\n",
    "\n",
    "    print(\"Addition of matrices:\")\n",
    "    print_matrix(addition_matrix)\n",
    "    print()\n",
    "    print(\"Subtraction of matrices\")\n",
    "    print_matrix(subtraction_matrix)\n",
    "    \n",
    "except Exception as e:\n",
    "    print(\"Enter valid numbers and enter 9 numbers correclty\")"
   ]
  },
  {
   "cell_type": "code",
   "execution_count": 17,
   "id": "bb67d1a1-0b18-44ac-8941-b1e567f23507",
   "metadata": {},
   "outputs": [
    {
     "name": "stdin",
     "output_type": "stream",
     "text": [
      "Enter first number 17\n",
      "Enter second number 2\n"
     ]
    },
    {
     "name": "stdout",
     "output_type": "stream",
     "text": [
      "GCD is: 1\n"
     ]
    }
   ],
   "source": [
    "#33. Write a program that calculates the greatest common divisor (GCD) of two numbers using the Euclidean algorithm.\n",
    "\n",
    "num1=int(input(\"Enter first number\"))\n",
    "num2=int(input(\"Enter second number\"))\n",
    "a = max(num1,num2)\n",
    "b= min(num1,num2)\n",
    "while a%b!=0:\n",
    "    r=a%b\n",
    "    a,b=b,r\n",
    "print(\"GCD is:\",b)"
   ]
  },
  {
   "cell_type": "code",
   "execution_count": 7,
   "id": "e4bb865c-fbba-463c-b42d-291053dda53f",
   "metadata": {},
   "outputs": [
    {
     "name": "stdout",
     "output_type": "stream",
     "text": [
      "Enter first 3X3 Matrix values by rowwise seperated by space:\n"
     ]
    },
    {
     "name": "stdin",
     "output_type": "stream",
     "text": [
      " 1\n",
      " 1\n",
      " 1\n",
      " 1\n",
      " 1\n",
      " 1\n",
      " 1\n",
      " 1\n",
      " 1\n"
     ]
    },
    {
     "name": "stdout",
     "output_type": "stream",
     "text": [
      "\n",
      "Enter second 3X3 Matrix values by rowwise seperated by space:\n"
     ]
    },
    {
     "name": "stdin",
     "output_type": "stream",
     "text": [
      " 1\n",
      " 1\n",
      " 1\n",
      " 1\n",
      " 1\n",
      " 1\n",
      " 1\n",
      " 1\n",
      " 1\n"
     ]
    },
    {
     "name": "stdout",
     "output_type": "stream",
     "text": [
      "Result after multiplication:\n",
      "| 3   3   3   |\n",
      "| 3   3   3   |\n",
      "| 3   3   3   |\n"
     ]
    }
   ],
   "source": [
    "#34. Build a program that performs matrix multiplication using nested loops and conditional statements.\n",
    "\n",
    "\n",
    "# making matrix(nested list) using general list of elements\n",
    "def matrix_Assign(list_,matrix):\n",
    "    matrix.append(list_[:3])\n",
    "    matrix.append(list_[3:6])\n",
    "    matrix.append(list_[6:9])\n",
    "\n",
    "# for scanning values from input\n",
    "def scan_values():\n",
    "    list_ =[]\n",
    "    for i in range(9):\n",
    "        j = int(input())\n",
    "        list_.append(j)\n",
    "    return list_\n",
    "\n",
    "#for printing matrix beautifully\n",
    "def print_matrix(matrix):\n",
    "    for i in matrix:\n",
    "        print(\"| \",end=\"\")\n",
    "        for j in i:\n",
    "            print(f\"{j:<3}\",end=\" \")\n",
    "        print(\"|\",end=\"\")\n",
    "        print()\n",
    "\n",
    "        \n",
    "print(\"Enter first 3X3 Matrix values by rowwise seperated by space:\")\n",
    "list_1 = scan_values()\n",
    "\n",
    "print()\n",
    "print(\"Enter second 3X3 Matrix values by rowwise seperated by space:\")\n",
    "list_2 = scan_values()\n",
    "    \n",
    "matrix1=[]\n",
    "matrix_Assign(list_1,matrix1)\n",
    "\n",
    "matrix2=[]\n",
    "matrix_Assign(list_2,matrix2)\n",
    "\n",
    "result =[[0,0,0],[0,0,0],[0,0,0]]\n",
    "\n",
    "for i in range(len(matrix1)):\n",
    "    for j in range(len(matrix2[0])):\n",
    "                   for k in range(len(matrix2)):\n",
    "                                  result[i][j]+=matrix1[i][k]*matrix2[k][j]\n",
    "\n",
    "print(\"Result after multiplication:\")\n",
    "print_matrix(result)"
   ]
  },
  {
   "cell_type": "code",
   "execution_count": 15,
   "id": "1784aeca-0f7e-48a2-9308-10f959b2df04",
   "metadata": {},
   "outputs": [
    {
     "name": "stdout",
     "output_type": "stream",
     "text": [
      "You are X\n",
      "\n"
     ]
    },
    {
     "name": "stdin",
     "output_type": "stream",
     "text": [
      "Enter row value(0,1,2): 0\n",
      "Enter column value(0,1,2): 1\n"
     ]
    },
    {
     "name": "stdout",
     "output_type": "stream",
     "text": [
      "\n",
      "|   X   |\n",
      "|       |\n",
      "|       |\n",
      "\n",
      "|   X   |\n",
      "|       |\n",
      "| O     |\n",
      "\n"
     ]
    },
    {
     "name": "stdin",
     "output_type": "stream",
     "text": [
      "Enter row value(0,1,2): 2\n",
      "Enter column value(0,1,2): 1\n"
     ]
    },
    {
     "name": "stdout",
     "output_type": "stream",
     "text": [
      "\n",
      "|   X   |\n",
      "|       |\n",
      "| O X   |\n",
      "\n",
      "|   X   |\n",
      "| O     |\n",
      "| O X   |\n",
      "\n"
     ]
    },
    {
     "name": "stdin",
     "output_type": "stream",
     "text": [
      "Enter row value(0,1,2): 0\n",
      "Enter column value(0,1,2): 0\n"
     ]
    },
    {
     "name": "stdout",
     "output_type": "stream",
     "text": [
      "\n",
      "| X X   |\n",
      "| O     |\n",
      "| O X   |\n",
      "\n",
      "| X X O |\n",
      "| O     |\n",
      "| O X   |\n",
      "\n"
     ]
    },
    {
     "name": "stdin",
     "output_type": "stream",
     "text": [
      "Enter row value(0,1,2): 1\n",
      "Enter column value(0,1,2): 1\n"
     ]
    },
    {
     "name": "stdout",
     "output_type": "stream",
     "text": [
      "\n",
      "| X X O |\n",
      "| O X   |\n",
      "| O X   |\n",
      "Player X wins\n"
     ]
    }
   ],
   "source": [
    "#35. Create a program that simulates a basic text-based tic-tac-toe game against the computer.\n",
    "\n",
    "import random as r\n",
    "\n",
    "def checkwin(board):\n",
    "    #checking row wise match\n",
    "    for row in board:\n",
    "        if (row == [\"X\",\"X\",\"X\"] or row==[\"O\",\"O\",\"O\"]):\n",
    "            return True\n",
    "    #checking column wise match\n",
    "    if [board[0][0],board[1][0],board[2][0]] in [[\"X\",\"X\",\"X\"],[\"O\",\"O\",\"O\"]]:\n",
    "        return True\n",
    "    if [board[0][1],board[1][1],board[2][1]] in [[\"X\",\"X\",\"X\"],[\"O\",\"O\",\"O\"]]:\n",
    "        return True\n",
    "    if [board[0][2],board[1][2],board[2][2]] in [[\"X\",\"X\",\"X\"],[\"O\",\"O\",\"O\"]]:\n",
    "        return True\n",
    "    \n",
    "    #checking diagonal wise\n",
    "    if [board[0][0],board[1][1],board[2][2]] in [[\"X\",\"X\",\"X\"],[\"O\",\"O\",\"O\"]]:\n",
    "        return True\n",
    "    if [board[0][2],board[1][1],board[2][0]] in [[\"X\",\"X\",\"X\"],[\"O\",\"O\",\"O\"]]:\n",
    "        return True\n",
    "\n",
    "def print_board(board):\n",
    "    for i in board:\n",
    "        print(\"| \",end=\"\")\n",
    "        for j in i:\n",
    "            print(f\"{j:<1}\",end=\" \")\n",
    "        print(\"|\",end=\"\")\n",
    "        print()\n",
    "        \n",
    "board = [[\"\",\" \",\" \"],[\" \",\" \",\" \"],[\" \",\" \",\" \"]]\n",
    "print(\"You are X\")\n",
    "print()\n",
    "\n",
    "draw=True\n",
    "count=0\n",
    "while count<9:\n",
    "    i =int(input(\"Enter row value(0,1,2):\"))\n",
    "    j =int(input(\"Enter column value(0,1,2):\"))\n",
    "    print()\n",
    "    if board[i][j] in [\"X\",\"O\"]:\n",
    "        print(\"Error! already played the space,try new place\")\n",
    "        continue\n",
    "    \n",
    "    board[i][j]=\"X\"\n",
    "    count+=1\n",
    "    if checkwin(board):\n",
    "        print_board(board)\n",
    "        draw=False\n",
    "        print(\"Player X wins\")\n",
    "        break\n",
    "    print_board(board)\n",
    "    \n",
    "    print()\n",
    "    \n",
    "    i=r.choice([0,1,2])\n",
    "    j=r.choice([0,1,2])\n",
    "    while board[i][j] in [\"X\",\"O\"]:\n",
    "        i=r.choice([0,1,2])\n",
    "        j=r.choice([0,1,2])\n",
    "    board[i][j]=\"O\"\n",
    "    count+=1\n",
    "    if checkwin(board):\n",
    "        print_board(board)\n",
    "        draw=False\n",
    "        print(\"Computer wins\")\n",
    "        break\n",
    "    print_board(board)\n",
    "    print()\n",
    "\n",
    "if draw==True:\n",
    "    print(\"Its a draw\")"
   ]
  },
  {
   "cell_type": "code",
   "execution_count": 9,
   "id": "6bfc1a69-dc56-4e3c-8a8f-a7aeae1d104a",
   "metadata": {},
   "outputs": [
    {
     "name": "stdin",
     "output_type": "stream",
     "text": [
      "Enter n value: 5\n"
     ]
    },
    {
     "name": "stdout",
     "output_type": "stream",
     "text": [
      "Fibonacci numbers are:\n",
      "0 1 1 2 3 "
     ]
    }
   ],
   "source": [
    "#36. Write a program that generates Fibonacci numbers up to a specified term using iterative methods.\n",
    "\n",
    "limit = int(input(\"Enter n value:\"))\n",
    "a=0\n",
    "b=1\n",
    "print(\"Fibonacci numbers are:\")\n",
    "for i in range(limit):\n",
    "    print(a,end=\" \")\n",
    "    a,b=b,a+b\n"
   ]
  },
  {
   "cell_type": "code",
   "execution_count": 11,
   "id": "3c7803ac-e811-472b-8982-a042df05f3b5",
   "metadata": {},
   "outputs": [
    {
     "name": "stdin",
     "output_type": "stream",
     "text": [
      "Enter the term (n) to calculate Fibonacci sequence:  5\n"
     ]
    },
    {
     "name": "stdout",
     "output_type": "stream",
     "text": [
      "The 5th term of the Fibonacci sequence is: 5\n"
     ]
    }
   ],
   "source": [
    "#37. Develop a program that calculates the nth term of the Fibonacci sequence using memoization.\n",
    "# Memoization dictionary to store computed Fibonacci values\n",
    "\n",
    "memo = {}\n",
    "\n",
    "def fibonacci(n):\n",
    "    # Check if the value is already memoized\n",
    "    if n in memo:\n",
    "        return memo[n]\n",
    "\n",
    "    # Base cases\n",
    "    if n == 0:\n",
    "        return 0\n",
    "    elif n == 1:\n",
    "        return 1\n",
    "\n",
    "    # Recursive calculation\n",
    "    result = fibonacci(n - 1) + fibonacci(n - 2)\n",
    "\n",
    "    # Memoize the result\n",
    "    memo[n] = result\n",
    "\n",
    "    return result\n",
    "\n",
    "# Input: Get the desired term from the user\n",
    "term = int(input(\"Enter the term (n) to calculate Fibonacci sequence: \"))\n",
    "\n",
    "# Calculate and print the nth term\n",
    "result = fibonacci(term)\n",
    "print(f\"The {term}th term of the Fibonacci sequence is: {result}\")\n"
   ]
  },
  {
   "cell_type": "code",
   "execution_count": 180,
   "id": "a175b197-da93-47d6-bd48-2e0a453af317",
   "metadata": {},
   "outputs": [
    {
     "name": "stdin",
     "output_type": "stream",
     "text": [
      "Enter year: 2023\n",
      "Enter month: 9\n"
     ]
    },
    {
     "name": "stdout",
     "output_type": "stream",
     "text": [
      "\n",
      "   September 2023\n",
      "Mo Tu We Th Fr Sa Su\n",
      "             1  2  3\n",
      " 4  5  6  7  8  9 10\n",
      "11 12 13 14 15 16 17\n",
      "18 19 20 21 22 23 24\n",
      "25 26 27 28 29 30\n",
      "\n"
     ]
    }
   ],
   "source": [
    "#38. Create a program that generates a calendar for a given month and year using conditional statements.\n",
    "\n",
    "import calendar\n",
    "\n",
    "year = int(input(\"Enter year:\"))\n",
    "month = int(input(\"Enter month:\"))\n",
    "print()\n",
    "if 1<=month<=12:\n",
    "    print(calendar.month(year,month))\n",
    "\n",
    "else:\n",
    "    print(\"Invalid month\")"
   ]
  },
  {
   "cell_type": "code",
   "execution_count": 12,
   "id": "e5c371bb-3e22-4e30-a5da-2e9213664d91",
   "metadata": {},
   "outputs": [
    {
     "name": "stdout",
     "output_type": "stream",
     "text": [
      "Welcome to BlackJack!\n",
      "     Your Cards:  [10, 3] Your score: 13\n",
      "     Computer's first Card: 3\n"
     ]
    },
    {
     "name": "stdin",
     "output_type": "stream",
     "text": [
      "Type 'y' to get another card, or 'n' to pass: y\n"
     ]
    },
    {
     "name": "stdout",
     "output_type": "stream",
     "text": [
      "     Your cards: [10, 3, 11] Your score: 24\n",
      "     Computer's first Card: 3\n",
      "     Computer's cards: [3, 2] Computer_cards score: 5\n",
      "You lose the game\n"
     ]
    }
   ],
   "source": [
    "#39. Build a program that simulates a basic text-based blackjack game against the computer.\n",
    "\n",
    "import random as r\n",
    "\n",
    "# cards assigned at start of game\n",
    "def initial_Cards(cards):\n",
    "    cards_select =[]\n",
    "    cards_select.append(r.choice(cards))\n",
    "    cards_select.append(r.choice(cards))\n",
    "    return cards_select\n",
    "    \n",
    "    \n",
    "def score_print(your_cards,computer_cards):\n",
    "    print(\"     Your cards:\",your_cards,\"Your score:\",sum(your_cards))\n",
    "    print(\"     Computer's cards:\",computer_cards,\"Computer_cards score:\",sum(computer_cards))\n",
    "    \n",
    "# computing scores of computer's cards and matching with players score\n",
    "def checkSumComputer(computer_cards):\n",
    "    global cards\n",
    "    global your_cards\n",
    "    \n",
    "    # handle_ace_value\n",
    "    if 11 in your_cards and sum(your_cards)>21:\n",
    "        your_cards.remove(11)\n",
    "        your_cards.append(1)\n",
    "        \n",
    "    while sum(computer_cards)<17:\n",
    "        computer_cards.append(r.choice(cards))\n",
    "        \n",
    "    if sum(computer_cards)==21:\n",
    "        score_print(your_cards,computer_cards)\n",
    "        print(\"Computer won the game\")\n",
    "        \n",
    "    elif sum(your_cards)> sum(computer_cards):\n",
    "        score_print(your_cards,computer_cards)\n",
    "        print(\"You won the game\")\n",
    "        \n",
    "    elif sum(computer_cards)>21:\n",
    "        score_print(your_cards,computer_cards)\n",
    "        print(\"You won the game\")\n",
    "    \n",
    "    elif sum(computer_cards)==sum(your_cards):\n",
    "        score_print(your_cards,computer_cards)\n",
    "        print(\"Its a tie\")\n",
    "    \n",
    "    else:\n",
    "        score_print(your_cards,computer_cards)\n",
    "        print(\"Computer won the game\")\n",
    "        \n",
    "\n",
    "    \n",
    "cards=[11,2,3,4,5,6,7,8,9,10,10,10,10]\n",
    "print(\"Welcome to BlackJack!\")\n",
    "your_cards = initial_Cards(cards)\n",
    "print(\"     Your Cards: \",your_cards,\"Your score:\",sum(your_cards))\n",
    "computer_cards = initial_Cards(cards)\n",
    "print(\"     Computer's first Card:\",computer_cards[0])\n",
    "\n",
    "choice = 'y'\n",
    "while choice=='y':\n",
    "    choice= input(\"Type 'y' to get another card, or 'n' to pass:\")\n",
    "    if choice=='n':\n",
    "        checkSumComputer(computer_cards)\n",
    "        break\n",
    "    your_cards.append(r.choice(cards))\n",
    "    print(\"     Your cards:\",your_cards,\"Your score:\",sum(your_cards))\n",
    "    print(\"     Computer's first Card:\",computer_cards[0])\n",
    "\n",
    "    if sum(your_cards)>21:\n",
    "        print(\"     Computer's cards:\",computer_cards,\"Computer_cards score:\",sum(computer_cards))\n",
    "        print(\"You lose the game\")\n",
    "        break\n",
    "   \n",
    "    if sum(your_cards)==21:\n",
    "        print(\"     Computer's cards:\",computer_cards,\"Computer_cards score:\",sum(computer_cards))\n",
    "        print(\"You win the game!BlackJack\")\n",
    "        break\n",
    "\n",
    "    "
   ]
  },
  {
   "cell_type": "code",
   "execution_count": 77,
   "id": "ccf9ea35-3d50-4756-9468-02479c0a02d5",
   "metadata": {},
   "outputs": [
    {
     "name": "stdin",
     "output_type": "stream",
     "text": [
      "Enter a number to find prime factors 56\n"
     ]
    },
    {
     "name": "stdout",
     "output_type": "stream",
     "text": [
      "Prime factors are : [2, 7]\n"
     ]
    }
   ],
   "source": [
    "#40. Write a program that generates the prime factors of a given number using trial division.\n",
    "def prime(num):\n",
    "    if num<=1:\n",
    "        return False\n",
    "    for i in range(2,int(num**0.5)+1):\n",
    "        if num%i==0:\n",
    "            return False\n",
    "    return True\n",
    "    \n",
    "num = int(input(\"Enter a number to find prime factors\"))\n",
    "list_primes = []\n",
    "\n",
    "for i in range(num+1):\n",
    "    if prime(i) and num%i==0:\n",
    "        list_primes.append(i)\n",
    "        while num%i==0:\n",
    "            num//=i\n",
    "\n",
    "print(\"Prime factors are :\",list_primes)\n"
   ]
  }
 ],
 "metadata": {
  "kernelspec": {
   "display_name": "Python 3 (ipykernel)",
   "language": "python",
   "name": "python3"
  },
  "language_info": {
   "codemirror_mode": {
    "name": "ipython",
    "version": 3
   },
   "file_extension": ".py",
   "mimetype": "text/x-python",
   "name": "python",
   "nbconvert_exporter": "python",
   "pygments_lexer": "ipython3",
   "version": "3.10.8"
  }
 },
 "nbformat": 4,
 "nbformat_minor": 5
}
